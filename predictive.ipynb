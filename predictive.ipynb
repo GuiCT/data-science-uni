{
 "cells": [
  {
   "cell_type": "code",
   "execution_count": 7,
   "metadata": {
    "metadata": {}
   },
   "outputs": [],
   "source": [
    "import pandas as pd"
   ]
  },
  {
   "cell_type": "code",
   "execution_count": 8,
   "metadata": {},
   "outputs": [],
   "source": [
    "# Constantes\n",
    "PREVIOUS_RESULTS_USED = 5"
   ]
  },
  {
   "cell_type": "code",
   "execution_count": 9,
   "metadata": {
    "metadata": {}
   },
   "outputs": [
    {
     "data": {
      "text/html": [
       "<div>\n",
       "<style scoped>\n",
       "    .dataframe tbody tr th:only-of-type {\n",
       "        vertical-align: middle;\n",
       "    }\n",
       "\n",
       "    .dataframe tbody tr th {\n",
       "        vertical-align: top;\n",
       "    }\n",
       "\n",
       "    .dataframe thead th {\n",
       "        text-align: right;\n",
       "    }\n",
       "</style>\n",
       "<table border=\"1\" class=\"dataframe\">\n",
       "  <thead>\n",
       "    <tr style=\"text-align: right;\">\n",
       "      <th></th>\n",
       "      <th>year</th>\n",
       "      <th>round</th>\n",
       "      <th>circuitId</th>\n",
       "      <th>name</th>\n",
       "      <th>date</th>\n",
       "      <th>time</th>\n",
       "      <th>url</th>\n",
       "      <th>fp1_date</th>\n",
       "      <th>fp1_time</th>\n",
       "      <th>fp2_date</th>\n",
       "      <th>fp2_time</th>\n",
       "      <th>fp3_date</th>\n",
       "      <th>fp3_time</th>\n",
       "      <th>quali_date</th>\n",
       "      <th>quali_time</th>\n",
       "      <th>sprint_date</th>\n",
       "      <th>sprint_time</th>\n",
       "      <th>datetime</th>\n",
       "    </tr>\n",
       "    <tr>\n",
       "      <th>raceId</th>\n",
       "      <th></th>\n",
       "      <th></th>\n",
       "      <th></th>\n",
       "      <th></th>\n",
       "      <th></th>\n",
       "      <th></th>\n",
       "      <th></th>\n",
       "      <th></th>\n",
       "      <th></th>\n",
       "      <th></th>\n",
       "      <th></th>\n",
       "      <th></th>\n",
       "      <th></th>\n",
       "      <th></th>\n",
       "      <th></th>\n",
       "      <th></th>\n",
       "      <th></th>\n",
       "      <th></th>\n",
       "    </tr>\n",
       "  </thead>\n",
       "  <tbody>\n",
       "    <tr>\n",
       "      <th>1</th>\n",
       "      <td>2009</td>\n",
       "      <td>1</td>\n",
       "      <td>1</td>\n",
       "      <td>Australian Grand Prix</td>\n",
       "      <td>2009-03-29</td>\n",
       "      <td>06:00:00</td>\n",
       "      <td>http://en.wikipedia.org/wiki/2009_Australian_G...</td>\n",
       "      <td>\\N</td>\n",
       "      <td>\\N</td>\n",
       "      <td>\\N</td>\n",
       "      <td>\\N</td>\n",
       "      <td>\\N</td>\n",
       "      <td>\\N</td>\n",
       "      <td>\\N</td>\n",
       "      <td>\\N</td>\n",
       "      <td>\\N</td>\n",
       "      <td>\\N</td>\n",
       "      <td>2009-03-29 06:00:00</td>\n",
       "    </tr>\n",
       "    <tr>\n",
       "      <th>2</th>\n",
       "      <td>2009</td>\n",
       "      <td>2</td>\n",
       "      <td>2</td>\n",
       "      <td>Malaysian Grand Prix</td>\n",
       "      <td>2009-04-05</td>\n",
       "      <td>09:00:00</td>\n",
       "      <td>http://en.wikipedia.org/wiki/2009_Malaysian_Gr...</td>\n",
       "      <td>\\N</td>\n",
       "      <td>\\N</td>\n",
       "      <td>\\N</td>\n",
       "      <td>\\N</td>\n",
       "      <td>\\N</td>\n",
       "      <td>\\N</td>\n",
       "      <td>\\N</td>\n",
       "      <td>\\N</td>\n",
       "      <td>\\N</td>\n",
       "      <td>\\N</td>\n",
       "      <td>2009-04-05 09:00:00</td>\n",
       "    </tr>\n",
       "    <tr>\n",
       "      <th>3</th>\n",
       "      <td>2009</td>\n",
       "      <td>3</td>\n",
       "      <td>17</td>\n",
       "      <td>Chinese Grand Prix</td>\n",
       "      <td>2009-04-19</td>\n",
       "      <td>07:00:00</td>\n",
       "      <td>http://en.wikipedia.org/wiki/2009_Chinese_Gran...</td>\n",
       "      <td>\\N</td>\n",
       "      <td>\\N</td>\n",
       "      <td>\\N</td>\n",
       "      <td>\\N</td>\n",
       "      <td>\\N</td>\n",
       "      <td>\\N</td>\n",
       "      <td>\\N</td>\n",
       "      <td>\\N</td>\n",
       "      <td>\\N</td>\n",
       "      <td>\\N</td>\n",
       "      <td>2009-04-19 07:00:00</td>\n",
       "    </tr>\n",
       "    <tr>\n",
       "      <th>4</th>\n",
       "      <td>2009</td>\n",
       "      <td>4</td>\n",
       "      <td>3</td>\n",
       "      <td>Bahrain Grand Prix</td>\n",
       "      <td>2009-04-26</td>\n",
       "      <td>12:00:00</td>\n",
       "      <td>http://en.wikipedia.org/wiki/2009_Bahrain_Gran...</td>\n",
       "      <td>\\N</td>\n",
       "      <td>\\N</td>\n",
       "      <td>\\N</td>\n",
       "      <td>\\N</td>\n",
       "      <td>\\N</td>\n",
       "      <td>\\N</td>\n",
       "      <td>\\N</td>\n",
       "      <td>\\N</td>\n",
       "      <td>\\N</td>\n",
       "      <td>\\N</td>\n",
       "      <td>2009-04-26 12:00:00</td>\n",
       "    </tr>\n",
       "    <tr>\n",
       "      <th>5</th>\n",
       "      <td>2009</td>\n",
       "      <td>5</td>\n",
       "      <td>4</td>\n",
       "      <td>Spanish Grand Prix</td>\n",
       "      <td>2009-05-10</td>\n",
       "      <td>12:00:00</td>\n",
       "      <td>http://en.wikipedia.org/wiki/2009_Spanish_Gran...</td>\n",
       "      <td>\\N</td>\n",
       "      <td>\\N</td>\n",
       "      <td>\\N</td>\n",
       "      <td>\\N</td>\n",
       "      <td>\\N</td>\n",
       "      <td>\\N</td>\n",
       "      <td>\\N</td>\n",
       "      <td>\\N</td>\n",
       "      <td>\\N</td>\n",
       "      <td>\\N</td>\n",
       "      <td>2009-05-10 12:00:00</td>\n",
       "    </tr>\n",
       "    <tr>\n",
       "      <th>...</th>\n",
       "      <td>...</td>\n",
       "      <td>...</td>\n",
       "      <td>...</td>\n",
       "      <td>...</td>\n",
       "      <td>...</td>\n",
       "      <td>...</td>\n",
       "      <td>...</td>\n",
       "      <td>...</td>\n",
       "      <td>...</td>\n",
       "      <td>...</td>\n",
       "      <td>...</td>\n",
       "      <td>...</td>\n",
       "      <td>...</td>\n",
       "      <td>...</td>\n",
       "      <td>...</td>\n",
       "      <td>...</td>\n",
       "      <td>...</td>\n",
       "      <td>...</td>\n",
       "    </tr>\n",
       "    <tr>\n",
       "      <th>1116</th>\n",
       "      <td>2023</td>\n",
       "      <td>18</td>\n",
       "      <td>69</td>\n",
       "      <td>United States Grand Prix</td>\n",
       "      <td>2023-10-22</td>\n",
       "      <td>19:00:00</td>\n",
       "      <td>https://en.wikipedia.org/wiki/2023_United_Stat...</td>\n",
       "      <td>2023-10-20</td>\n",
       "      <td>17:30:00</td>\n",
       "      <td>2023-10-21</td>\n",
       "      <td>18:00:00</td>\n",
       "      <td>\\N</td>\n",
       "      <td>\\N</td>\n",
       "      <td>2023-10-20</td>\n",
       "      <td>21:00:00</td>\n",
       "      <td>2023-10-21</td>\n",
       "      <td>22:00:00</td>\n",
       "      <td>2023-10-22 19:00:00</td>\n",
       "    </tr>\n",
       "    <tr>\n",
       "      <th>1117</th>\n",
       "      <td>2023</td>\n",
       "      <td>19</td>\n",
       "      <td>32</td>\n",
       "      <td>Mexico City Grand Prix</td>\n",
       "      <td>2023-10-29</td>\n",
       "      <td>20:00:00</td>\n",
       "      <td>https://en.wikipedia.org/wiki/2023_Mexico_City...</td>\n",
       "      <td>2023-10-27</td>\n",
       "      <td>18:30:00</td>\n",
       "      <td>2023-10-27</td>\n",
       "      <td>22:00:00</td>\n",
       "      <td>2023-10-28</td>\n",
       "      <td>17:30:00</td>\n",
       "      <td>2023-10-28</td>\n",
       "      <td>21:00:00</td>\n",
       "      <td>\\N</td>\n",
       "      <td>\\N</td>\n",
       "      <td>2023-10-29 20:00:00</td>\n",
       "    </tr>\n",
       "    <tr>\n",
       "      <th>1118</th>\n",
       "      <td>2023</td>\n",
       "      <td>20</td>\n",
       "      <td>18</td>\n",
       "      <td>São Paulo Grand Prix</td>\n",
       "      <td>2023-11-05</td>\n",
       "      <td>17:00:00</td>\n",
       "      <td>https://en.wikipedia.org/wiki/2023_S%C3%A3o_Pa...</td>\n",
       "      <td>2023-11-03</td>\n",
       "      <td>14:30:00</td>\n",
       "      <td>2023-11-04</td>\n",
       "      <td>14:30:00</td>\n",
       "      <td>\\N</td>\n",
       "      <td>\\N</td>\n",
       "      <td>2023-11-03</td>\n",
       "      <td>18:00:00</td>\n",
       "      <td>2023-11-04</td>\n",
       "      <td>18:30:00</td>\n",
       "      <td>2023-11-05 17:00:00</td>\n",
       "    </tr>\n",
       "    <tr>\n",
       "      <th>1119</th>\n",
       "      <td>2023</td>\n",
       "      <td>21</td>\n",
       "      <td>80</td>\n",
       "      <td>Las Vegas Grand Prix</td>\n",
       "      <td>2023-11-19</td>\n",
       "      <td>06:00:00</td>\n",
       "      <td>https://en.wikipedia.org/wiki/2023_Las_Vegas_G...</td>\n",
       "      <td>2023-11-17</td>\n",
       "      <td>04:30:00</td>\n",
       "      <td>2023-11-17</td>\n",
       "      <td>08:00:00</td>\n",
       "      <td>2023-11-18</td>\n",
       "      <td>04:30:00</td>\n",
       "      <td>2023-11-18</td>\n",
       "      <td>08:00:00</td>\n",
       "      <td>\\N</td>\n",
       "      <td>\\N</td>\n",
       "      <td>2023-11-19 06:00:00</td>\n",
       "    </tr>\n",
       "    <tr>\n",
       "      <th>1120</th>\n",
       "      <td>2023</td>\n",
       "      <td>22</td>\n",
       "      <td>24</td>\n",
       "      <td>Abu Dhabi Grand Prix</td>\n",
       "      <td>2023-11-26</td>\n",
       "      <td>13:00:00</td>\n",
       "      <td>https://en.wikipedia.org/wiki/2023_Abu_Dhabi_G...</td>\n",
       "      <td>2023-11-24</td>\n",
       "      <td>09:30:00</td>\n",
       "      <td>2023-11-24</td>\n",
       "      <td>13:00:00</td>\n",
       "      <td>2023-11-25</td>\n",
       "      <td>10:30:00</td>\n",
       "      <td>2023-11-25</td>\n",
       "      <td>14:00:00</td>\n",
       "      <td>\\N</td>\n",
       "      <td>\\N</td>\n",
       "      <td>2023-11-26 13:00:00</td>\n",
       "    </tr>\n",
       "  </tbody>\n",
       "</table>\n",
       "<p>1101 rows × 18 columns</p>\n",
       "</div>"
      ],
      "text/plain": [
       "        year  round  circuitId                      name        date  \\\n",
       "raceId                                                                 \n",
       "1       2009      1          1     Australian Grand Prix  2009-03-29   \n",
       "2       2009      2          2      Malaysian Grand Prix  2009-04-05   \n",
       "3       2009      3         17        Chinese Grand Prix  2009-04-19   \n",
       "4       2009      4          3        Bahrain Grand Prix  2009-04-26   \n",
       "5       2009      5          4        Spanish Grand Prix  2009-05-10   \n",
       "...      ...    ...        ...                       ...         ...   \n",
       "1116    2023     18         69  United States Grand Prix  2023-10-22   \n",
       "1117    2023     19         32    Mexico City Grand Prix  2023-10-29   \n",
       "1118    2023     20         18      São Paulo Grand Prix  2023-11-05   \n",
       "1119    2023     21         80      Las Vegas Grand Prix  2023-11-19   \n",
       "1120    2023     22         24      Abu Dhabi Grand Prix  2023-11-26   \n",
       "\n",
       "            time                                                url  \\\n",
       "raceId                                                                \n",
       "1       06:00:00  http://en.wikipedia.org/wiki/2009_Australian_G...   \n",
       "2       09:00:00  http://en.wikipedia.org/wiki/2009_Malaysian_Gr...   \n",
       "3       07:00:00  http://en.wikipedia.org/wiki/2009_Chinese_Gran...   \n",
       "4       12:00:00  http://en.wikipedia.org/wiki/2009_Bahrain_Gran...   \n",
       "5       12:00:00  http://en.wikipedia.org/wiki/2009_Spanish_Gran...   \n",
       "...          ...                                                ...   \n",
       "1116    19:00:00  https://en.wikipedia.org/wiki/2023_United_Stat...   \n",
       "1117    20:00:00  https://en.wikipedia.org/wiki/2023_Mexico_City...   \n",
       "1118    17:00:00  https://en.wikipedia.org/wiki/2023_S%C3%A3o_Pa...   \n",
       "1119    06:00:00  https://en.wikipedia.org/wiki/2023_Las_Vegas_G...   \n",
       "1120    13:00:00  https://en.wikipedia.org/wiki/2023_Abu_Dhabi_G...   \n",
       "\n",
       "          fp1_date  fp1_time    fp2_date  fp2_time    fp3_date  fp3_time  \\\n",
       "raceId                                                                     \n",
       "1               \\N        \\N          \\N        \\N          \\N        \\N   \n",
       "2               \\N        \\N          \\N        \\N          \\N        \\N   \n",
       "3               \\N        \\N          \\N        \\N          \\N        \\N   \n",
       "4               \\N        \\N          \\N        \\N          \\N        \\N   \n",
       "5               \\N        \\N          \\N        \\N          \\N        \\N   \n",
       "...            ...       ...         ...       ...         ...       ...   \n",
       "1116    2023-10-20  17:30:00  2023-10-21  18:00:00          \\N        \\N   \n",
       "1117    2023-10-27  18:30:00  2023-10-27  22:00:00  2023-10-28  17:30:00   \n",
       "1118    2023-11-03  14:30:00  2023-11-04  14:30:00          \\N        \\N   \n",
       "1119    2023-11-17  04:30:00  2023-11-17  08:00:00  2023-11-18  04:30:00   \n",
       "1120    2023-11-24  09:30:00  2023-11-24  13:00:00  2023-11-25  10:30:00   \n",
       "\n",
       "        quali_date quali_time sprint_date sprint_time            datetime  \n",
       "raceId                                                                     \n",
       "1               \\N         \\N          \\N          \\N 2009-03-29 06:00:00  \n",
       "2               \\N         \\N          \\N          \\N 2009-04-05 09:00:00  \n",
       "3               \\N         \\N          \\N          \\N 2009-04-19 07:00:00  \n",
       "4               \\N         \\N          \\N          \\N 2009-04-26 12:00:00  \n",
       "5               \\N         \\N          \\N          \\N 2009-05-10 12:00:00  \n",
       "...            ...        ...         ...         ...                 ...  \n",
       "1116    2023-10-20   21:00:00  2023-10-21    22:00:00 2023-10-22 19:00:00  \n",
       "1117    2023-10-28   21:00:00          \\N          \\N 2023-10-29 20:00:00  \n",
       "1118    2023-11-03   18:00:00  2023-11-04    18:30:00 2023-11-05 17:00:00  \n",
       "1119    2023-11-18   08:00:00          \\N          \\N 2023-11-19 06:00:00  \n",
       "1120    2023-11-25   14:00:00          \\N          \\N 2023-11-26 13:00:00  \n",
       "\n",
       "[1101 rows x 18 columns]"
      ]
     },
     "metadata": {},
     "output_type": "display_data"
    }
   ],
   "source": [
    "raw_dfs = {\n",
    "    'races': pd.read_parquet('.data_parquet/races.parquet'),\n",
    "    'results': pd.read_parquet('.data_parquet/results.parquet'),\n",
    "    'driver_standings': pd.read_parquet('.data_parquet/driver_standings.parquet'),\n",
    "    'constructor_standings': pd.read_parquet('.data_parquet/constructor_standings.parquet'),\n",
    "    'qualifying': pd.read_parquet('.data_parquet/qualifying.parquet')\n",
    "}\n",
    "display(raw_dfs['races'])"
   ]
  },
  {
   "cell_type": "code",
   "execution_count": 10,
   "metadata": {
    "metadata": {}
   },
   "outputs": [
    {
     "data": {
      "text/html": [
       "<div>\n",
       "<style scoped>\n",
       "    .dataframe tbody tr th:only-of-type {\n",
       "        vertical-align: middle;\n",
       "    }\n",
       "\n",
       "    .dataframe tbody tr th {\n",
       "        vertical-align: top;\n",
       "    }\n",
       "\n",
       "    .dataframe thead th {\n",
       "        text-align: right;\n",
       "    }\n",
       "</style>\n",
       "<table border=\"1\" class=\"dataframe\">\n",
       "  <thead>\n",
       "    <tr style=\"text-align: right;\">\n",
       "      <th></th>\n",
       "      <th></th>\n",
       "      <th>year</th>\n",
       "      <th>round</th>\n",
       "      <th>circuitId</th>\n",
       "      <th>name</th>\n",
       "      <th>date</th>\n",
       "      <th>time</th>\n",
       "      <th>url</th>\n",
       "      <th>fp1_date</th>\n",
       "      <th>fp1_time</th>\n",
       "      <th>fp2_date</th>\n",
       "      <th>fp2_time</th>\n",
       "      <th>fp3_date</th>\n",
       "      <th>fp3_time</th>\n",
       "      <th>quali_date</th>\n",
       "      <th>quali_time</th>\n",
       "      <th>sprint_date</th>\n",
       "      <th>sprint_time</th>\n",
       "      <th>datetime</th>\n",
       "    </tr>\n",
       "    <tr>\n",
       "      <th>raceId</th>\n",
       "      <th>number</th>\n",
       "      <th></th>\n",
       "      <th></th>\n",
       "      <th></th>\n",
       "      <th></th>\n",
       "      <th></th>\n",
       "      <th></th>\n",
       "      <th></th>\n",
       "      <th></th>\n",
       "      <th></th>\n",
       "      <th></th>\n",
       "      <th></th>\n",
       "      <th></th>\n",
       "      <th></th>\n",
       "      <th></th>\n",
       "      <th></th>\n",
       "      <th></th>\n",
       "      <th></th>\n",
       "      <th></th>\n",
       "    </tr>\n",
       "  </thead>\n",
       "  <tbody>\n",
       "    <tr>\n",
       "      <th>1</th>\n",
       "      <th>804</th>\n",
       "      <td>2009</td>\n",
       "      <td>1</td>\n",
       "      <td>1</td>\n",
       "      <td>Australian Grand Prix</td>\n",
       "      <td>2009-03-29</td>\n",
       "      <td>06:00:00</td>\n",
       "      <td>http://en.wikipedia.org/wiki/2009_Australian_G...</td>\n",
       "      <td>\\N</td>\n",
       "      <td>\\N</td>\n",
       "      <td>\\N</td>\n",
       "      <td>\\N</td>\n",
       "      <td>\\N</td>\n",
       "      <td>\\N</td>\n",
       "      <td>\\N</td>\n",
       "      <td>\\N</td>\n",
       "      <td>\\N</td>\n",
       "      <td>\\N</td>\n",
       "      <td>2009-03-29 06:00:00</td>\n",
       "    </tr>\n",
       "    <tr>\n",
       "      <th>2</th>\n",
       "      <th>805</th>\n",
       "      <td>2009</td>\n",
       "      <td>2</td>\n",
       "      <td>2</td>\n",
       "      <td>Malaysian Grand Prix</td>\n",
       "      <td>2009-04-05</td>\n",
       "      <td>09:00:00</td>\n",
       "      <td>http://en.wikipedia.org/wiki/2009_Malaysian_Gr...</td>\n",
       "      <td>\\N</td>\n",
       "      <td>\\N</td>\n",
       "      <td>\\N</td>\n",
       "      <td>\\N</td>\n",
       "      <td>\\N</td>\n",
       "      <td>\\N</td>\n",
       "      <td>\\N</td>\n",
       "      <td>\\N</td>\n",
       "      <td>\\N</td>\n",
       "      <td>\\N</td>\n",
       "      <td>2009-04-05 09:00:00</td>\n",
       "    </tr>\n",
       "    <tr>\n",
       "      <th>3</th>\n",
       "      <th>806</th>\n",
       "      <td>2009</td>\n",
       "      <td>3</td>\n",
       "      <td>17</td>\n",
       "      <td>Chinese Grand Prix</td>\n",
       "      <td>2009-04-19</td>\n",
       "      <td>07:00:00</td>\n",
       "      <td>http://en.wikipedia.org/wiki/2009_Chinese_Gran...</td>\n",
       "      <td>\\N</td>\n",
       "      <td>\\N</td>\n",
       "      <td>\\N</td>\n",
       "      <td>\\N</td>\n",
       "      <td>\\N</td>\n",
       "      <td>\\N</td>\n",
       "      <td>\\N</td>\n",
       "      <td>\\N</td>\n",
       "      <td>\\N</td>\n",
       "      <td>\\N</td>\n",
       "      <td>2009-04-19 07:00:00</td>\n",
       "    </tr>\n",
       "    <tr>\n",
       "      <th>4</th>\n",
       "      <th>807</th>\n",
       "      <td>2009</td>\n",
       "      <td>4</td>\n",
       "      <td>3</td>\n",
       "      <td>Bahrain Grand Prix</td>\n",
       "      <td>2009-04-26</td>\n",
       "      <td>12:00:00</td>\n",
       "      <td>http://en.wikipedia.org/wiki/2009_Bahrain_Gran...</td>\n",
       "      <td>\\N</td>\n",
       "      <td>\\N</td>\n",
       "      <td>\\N</td>\n",
       "      <td>\\N</td>\n",
       "      <td>\\N</td>\n",
       "      <td>\\N</td>\n",
       "      <td>\\N</td>\n",
       "      <td>\\N</td>\n",
       "      <td>\\N</td>\n",
       "      <td>\\N</td>\n",
       "      <td>2009-04-26 12:00:00</td>\n",
       "    </tr>\n",
       "    <tr>\n",
       "      <th>5</th>\n",
       "      <th>808</th>\n",
       "      <td>2009</td>\n",
       "      <td>5</td>\n",
       "      <td>4</td>\n",
       "      <td>Spanish Grand Prix</td>\n",
       "      <td>2009-05-10</td>\n",
       "      <td>12:00:00</td>\n",
       "      <td>http://en.wikipedia.org/wiki/2009_Spanish_Gran...</td>\n",
       "      <td>\\N</td>\n",
       "      <td>\\N</td>\n",
       "      <td>\\N</td>\n",
       "      <td>\\N</td>\n",
       "      <td>\\N</td>\n",
       "      <td>\\N</td>\n",
       "      <td>\\N</td>\n",
       "      <td>\\N</td>\n",
       "      <td>\\N</td>\n",
       "      <td>\\N</td>\n",
       "      <td>2009-05-10 12:00:00</td>\n",
       "    </tr>\n",
       "    <tr>\n",
       "      <th>...</th>\n",
       "      <th>...</th>\n",
       "      <td>...</td>\n",
       "      <td>...</td>\n",
       "      <td>...</td>\n",
       "      <td>...</td>\n",
       "      <td>...</td>\n",
       "      <td>...</td>\n",
       "      <td>...</td>\n",
       "      <td>...</td>\n",
       "      <td>...</td>\n",
       "      <td>...</td>\n",
       "      <td>...</td>\n",
       "      <td>...</td>\n",
       "      <td>...</td>\n",
       "      <td>...</td>\n",
       "      <td>...</td>\n",
       "      <td>...</td>\n",
       "      <td>...</td>\n",
       "      <td>...</td>\n",
       "    </tr>\n",
       "    <tr>\n",
       "      <th>1116</th>\n",
       "      <th>1097</th>\n",
       "      <td>2023</td>\n",
       "      <td>18</td>\n",
       "      <td>69</td>\n",
       "      <td>United States Grand Prix</td>\n",
       "      <td>2023-10-22</td>\n",
       "      <td>19:00:00</td>\n",
       "      <td>https://en.wikipedia.org/wiki/2023_United_Stat...</td>\n",
       "      <td>2023-10-20</td>\n",
       "      <td>17:30:00</td>\n",
       "      <td>2023-10-21</td>\n",
       "      <td>18:00:00</td>\n",
       "      <td>\\N</td>\n",
       "      <td>\\N</td>\n",
       "      <td>2023-10-20</td>\n",
       "      <td>21:00:00</td>\n",
       "      <td>2023-10-21</td>\n",
       "      <td>22:00:00</td>\n",
       "      <td>2023-10-22 19:00:00</td>\n",
       "    </tr>\n",
       "    <tr>\n",
       "      <th>1117</th>\n",
       "      <th>1098</th>\n",
       "      <td>2023</td>\n",
       "      <td>19</td>\n",
       "      <td>32</td>\n",
       "      <td>Mexico City Grand Prix</td>\n",
       "      <td>2023-10-29</td>\n",
       "      <td>20:00:00</td>\n",
       "      <td>https://en.wikipedia.org/wiki/2023_Mexico_City...</td>\n",
       "      <td>2023-10-27</td>\n",
       "      <td>18:30:00</td>\n",
       "      <td>2023-10-27</td>\n",
       "      <td>22:00:00</td>\n",
       "      <td>2023-10-28</td>\n",
       "      <td>17:30:00</td>\n",
       "      <td>2023-10-28</td>\n",
       "      <td>21:00:00</td>\n",
       "      <td>\\N</td>\n",
       "      <td>\\N</td>\n",
       "      <td>2023-10-29 20:00:00</td>\n",
       "    </tr>\n",
       "    <tr>\n",
       "      <th>1118</th>\n",
       "      <th>1099</th>\n",
       "      <td>2023</td>\n",
       "      <td>20</td>\n",
       "      <td>18</td>\n",
       "      <td>São Paulo Grand Prix</td>\n",
       "      <td>2023-11-05</td>\n",
       "      <td>17:00:00</td>\n",
       "      <td>https://en.wikipedia.org/wiki/2023_S%C3%A3o_Pa...</td>\n",
       "      <td>2023-11-03</td>\n",
       "      <td>14:30:00</td>\n",
       "      <td>2023-11-04</td>\n",
       "      <td>14:30:00</td>\n",
       "      <td>\\N</td>\n",
       "      <td>\\N</td>\n",
       "      <td>2023-11-03</td>\n",
       "      <td>18:00:00</td>\n",
       "      <td>2023-11-04</td>\n",
       "      <td>18:30:00</td>\n",
       "      <td>2023-11-05 17:00:00</td>\n",
       "    </tr>\n",
       "    <tr>\n",
       "      <th>1119</th>\n",
       "      <th>1100</th>\n",
       "      <td>2023</td>\n",
       "      <td>21</td>\n",
       "      <td>80</td>\n",
       "      <td>Las Vegas Grand Prix</td>\n",
       "      <td>2023-11-19</td>\n",
       "      <td>06:00:00</td>\n",
       "      <td>https://en.wikipedia.org/wiki/2023_Las_Vegas_G...</td>\n",
       "      <td>2023-11-17</td>\n",
       "      <td>04:30:00</td>\n",
       "      <td>2023-11-17</td>\n",
       "      <td>08:00:00</td>\n",
       "      <td>2023-11-18</td>\n",
       "      <td>04:30:00</td>\n",
       "      <td>2023-11-18</td>\n",
       "      <td>08:00:00</td>\n",
       "      <td>\\N</td>\n",
       "      <td>\\N</td>\n",
       "      <td>2023-11-19 06:00:00</td>\n",
       "    </tr>\n",
       "    <tr>\n",
       "      <th>1120</th>\n",
       "      <th>1101</th>\n",
       "      <td>2023</td>\n",
       "      <td>22</td>\n",
       "      <td>24</td>\n",
       "      <td>Abu Dhabi Grand Prix</td>\n",
       "      <td>2023-11-26</td>\n",
       "      <td>13:00:00</td>\n",
       "      <td>https://en.wikipedia.org/wiki/2023_Abu_Dhabi_G...</td>\n",
       "      <td>2023-11-24</td>\n",
       "      <td>09:30:00</td>\n",
       "      <td>2023-11-24</td>\n",
       "      <td>13:00:00</td>\n",
       "      <td>2023-11-25</td>\n",
       "      <td>10:30:00</td>\n",
       "      <td>2023-11-25</td>\n",
       "      <td>14:00:00</td>\n",
       "      <td>\\N</td>\n",
       "      <td>\\N</td>\n",
       "      <td>2023-11-26 13:00:00</td>\n",
       "    </tr>\n",
       "  </tbody>\n",
       "</table>\n",
       "<p>1101 rows × 18 columns</p>\n",
       "</div>"
      ],
      "text/plain": [
       "               year  round  circuitId                      name        date  \\\n",
       "raceId number                                                                 \n",
       "1      804     2009      1          1     Australian Grand Prix  2009-03-29   \n",
       "2      805     2009      2          2      Malaysian Grand Prix  2009-04-05   \n",
       "3      806     2009      3         17        Chinese Grand Prix  2009-04-19   \n",
       "4      807     2009      4          3        Bahrain Grand Prix  2009-04-26   \n",
       "5      808     2009      5          4        Spanish Grand Prix  2009-05-10   \n",
       "...             ...    ...        ...                       ...         ...   \n",
       "1116   1097    2023     18         69  United States Grand Prix  2023-10-22   \n",
       "1117   1098    2023     19         32    Mexico City Grand Prix  2023-10-29   \n",
       "1118   1099    2023     20         18      São Paulo Grand Prix  2023-11-05   \n",
       "1119   1100    2023     21         80      Las Vegas Grand Prix  2023-11-19   \n",
       "1120   1101    2023     22         24      Abu Dhabi Grand Prix  2023-11-26   \n",
       "\n",
       "                   time                                                url  \\\n",
       "raceId number                                                                \n",
       "1      804     06:00:00  http://en.wikipedia.org/wiki/2009_Australian_G...   \n",
       "2      805     09:00:00  http://en.wikipedia.org/wiki/2009_Malaysian_Gr...   \n",
       "3      806     07:00:00  http://en.wikipedia.org/wiki/2009_Chinese_Gran...   \n",
       "4      807     12:00:00  http://en.wikipedia.org/wiki/2009_Bahrain_Gran...   \n",
       "5      808     12:00:00  http://en.wikipedia.org/wiki/2009_Spanish_Gran...   \n",
       "...                 ...                                                ...   \n",
       "1116   1097    19:00:00  https://en.wikipedia.org/wiki/2023_United_Stat...   \n",
       "1117   1098    20:00:00  https://en.wikipedia.org/wiki/2023_Mexico_City...   \n",
       "1118   1099    17:00:00  https://en.wikipedia.org/wiki/2023_S%C3%A3o_Pa...   \n",
       "1119   1100    06:00:00  https://en.wikipedia.org/wiki/2023_Las_Vegas_G...   \n",
       "1120   1101    13:00:00  https://en.wikipedia.org/wiki/2023_Abu_Dhabi_G...   \n",
       "\n",
       "                 fp1_date  fp1_time    fp2_date  fp2_time    fp3_date  \\\n",
       "raceId number                                                           \n",
       "1      804             \\N        \\N          \\N        \\N          \\N   \n",
       "2      805             \\N        \\N          \\N        \\N          \\N   \n",
       "3      806             \\N        \\N          \\N        \\N          \\N   \n",
       "4      807             \\N        \\N          \\N        \\N          \\N   \n",
       "5      808             \\N        \\N          \\N        \\N          \\N   \n",
       "...                   ...       ...         ...       ...         ...   \n",
       "1116   1097    2023-10-20  17:30:00  2023-10-21  18:00:00          \\N   \n",
       "1117   1098    2023-10-27  18:30:00  2023-10-27  22:00:00  2023-10-28   \n",
       "1118   1099    2023-11-03  14:30:00  2023-11-04  14:30:00          \\N   \n",
       "1119   1100    2023-11-17  04:30:00  2023-11-17  08:00:00  2023-11-18   \n",
       "1120   1101    2023-11-24  09:30:00  2023-11-24  13:00:00  2023-11-25   \n",
       "\n",
       "               fp3_time  quali_date quali_time sprint_date sprint_time  \\\n",
       "raceId number                                                            \n",
       "1      804           \\N          \\N         \\N          \\N          \\N   \n",
       "2      805           \\N          \\N         \\N          \\N          \\N   \n",
       "3      806           \\N          \\N         \\N          \\N          \\N   \n",
       "4      807           \\N          \\N         \\N          \\N          \\N   \n",
       "5      808           \\N          \\N         \\N          \\N          \\N   \n",
       "...                 ...         ...        ...         ...         ...   \n",
       "1116   1097          \\N  2023-10-20   21:00:00  2023-10-21    22:00:00   \n",
       "1117   1098    17:30:00  2023-10-28   21:00:00          \\N          \\N   \n",
       "1118   1099          \\N  2023-11-03   18:00:00  2023-11-04    18:30:00   \n",
       "1119   1100    04:30:00  2023-11-18   08:00:00          \\N          \\N   \n",
       "1120   1101    10:30:00  2023-11-25   14:00:00          \\N          \\N   \n",
       "\n",
       "                         datetime  \n",
       "raceId number                      \n",
       "1      804    2009-03-29 06:00:00  \n",
       "2      805    2009-04-05 09:00:00  \n",
       "3      806    2009-04-19 07:00:00  \n",
       "4      807    2009-04-26 12:00:00  \n",
       "5      808    2009-05-10 12:00:00  \n",
       "...                           ...  \n",
       "1116   1097   2023-10-22 19:00:00  \n",
       "1117   1098   2023-10-29 20:00:00  \n",
       "1118   1099   2023-11-05 17:00:00  \n",
       "1119   1100   2023-11-19 06:00:00  \n",
       "1120   1101   2023-11-26 13:00:00  \n",
       "\n",
       "[1101 rows x 18 columns]"
      ]
     },
     "metadata": {},
     "output_type": "display_data"
    }
   ],
   "source": [
    "races_by_number = raw_dfs['races'][['year', 'round']].sort_values(['year', 'round'])\n",
    "races_by_number['number'] = range(1, len(races_by_number) + 1)\n",
    "races_number = races_by_number[['number']]\n",
    "races_df_with_number = raw_dfs['races'].join(races_by_number['number'], on='raceId')\n",
    "races_df_with_number = races_df_with_number.set_index('number', append=True)\n",
    "display(races_df_with_number)"
   ]
  },
  {
   "cell_type": "code",
   "execution_count": 11,
   "metadata": {},
   "outputs": [
    {
     "data": {
      "text/html": [
       "<div>\n",
       "<style scoped>\n",
       "    .dataframe tbody tr th:only-of-type {\n",
       "        vertical-align: middle;\n",
       "    }\n",
       "\n",
       "    .dataframe tbody tr th {\n",
       "        vertical-align: top;\n",
       "    }\n",
       "\n",
       "    .dataframe thead th {\n",
       "        text-align: right;\n",
       "    }\n",
       "</style>\n",
       "<table border=\"1\" class=\"dataframe\">\n",
       "  <thead>\n",
       "    <tr style=\"text-align: right;\">\n",
       "      <th></th>\n",
       "      <th>year</th>\n",
       "      <th>round</th>\n",
       "      <th>circuitId</th>\n",
       "      <th>name</th>\n",
       "      <th>date</th>\n",
       "      <th>time</th>\n",
       "      <th>url</th>\n",
       "      <th>fp1_date</th>\n",
       "      <th>fp1_time</th>\n",
       "      <th>fp2_date</th>\n",
       "      <th>fp2_time</th>\n",
       "      <th>fp3_date</th>\n",
       "      <th>fp3_time</th>\n",
       "      <th>quali_date</th>\n",
       "      <th>quali_time</th>\n",
       "      <th>sprint_date</th>\n",
       "      <th>sprint_time</th>\n",
       "      <th>datetime</th>\n",
       "    </tr>\n",
       "    <tr>\n",
       "      <th>number</th>\n",
       "      <th></th>\n",
       "      <th></th>\n",
       "      <th></th>\n",
       "      <th></th>\n",
       "      <th></th>\n",
       "      <th></th>\n",
       "      <th></th>\n",
       "      <th></th>\n",
       "      <th></th>\n",
       "      <th></th>\n",
       "      <th></th>\n",
       "      <th></th>\n",
       "      <th></th>\n",
       "      <th></th>\n",
       "      <th></th>\n",
       "      <th></th>\n",
       "      <th></th>\n",
       "      <th></th>\n",
       "    </tr>\n",
       "  </thead>\n",
       "  <tbody>\n",
       "    <tr>\n",
       "      <th>804</th>\n",
       "      <td>2009</td>\n",
       "      <td>1</td>\n",
       "      <td>1</td>\n",
       "      <td>Australian Grand Prix</td>\n",
       "      <td>2009-03-29</td>\n",
       "      <td>06:00:00</td>\n",
       "      <td>http://en.wikipedia.org/wiki/2009_Australian_G...</td>\n",
       "      <td>\\N</td>\n",
       "      <td>\\N</td>\n",
       "      <td>\\N</td>\n",
       "      <td>\\N</td>\n",
       "      <td>\\N</td>\n",
       "      <td>\\N</td>\n",
       "      <td>\\N</td>\n",
       "      <td>\\N</td>\n",
       "      <td>\\N</td>\n",
       "      <td>\\N</td>\n",
       "      <td>2009-03-29 06:00:00</td>\n",
       "    </tr>\n",
       "  </tbody>\n",
       "</table>\n",
       "</div>"
      ],
      "text/plain": [
       "        year  round  circuitId                   name        date      time  \\\n",
       "number                                                                        \n",
       "804     2009      1          1  Australian Grand Prix  2009-03-29  06:00:00   \n",
       "\n",
       "                                                      url fp1_date fp1_time  \\\n",
       "number                                                                        \n",
       "804     http://en.wikipedia.org/wiki/2009_Australian_G...       \\N       \\N   \n",
       "\n",
       "       fp2_date fp2_time fp3_date fp3_time quali_date quali_time sprint_date  \\\n",
       "number                                                                         \n",
       "804          \\N       \\N       \\N       \\N         \\N         \\N          \\N   \n",
       "\n",
       "       sprint_time            datetime  \n",
       "number                                  \n",
       "804             \\N 2009-03-29 06:00:00  "
      ]
     },
     "metadata": {},
     "output_type": "display_data"
    },
    {
     "data": {
      "text/html": [
       "<div>\n",
       "<style scoped>\n",
       "    .dataframe tbody tr th:only-of-type {\n",
       "        vertical-align: middle;\n",
       "    }\n",
       "\n",
       "    .dataframe tbody tr th {\n",
       "        vertical-align: top;\n",
       "    }\n",
       "\n",
       "    .dataframe thead th {\n",
       "        text-align: right;\n",
       "    }\n",
       "</style>\n",
       "<table border=\"1\" class=\"dataframe\">\n",
       "  <thead>\n",
       "    <tr style=\"text-align: right;\">\n",
       "      <th></th>\n",
       "      <th>year</th>\n",
       "      <th>round</th>\n",
       "      <th>circuitId</th>\n",
       "      <th>name</th>\n",
       "      <th>date</th>\n",
       "      <th>time</th>\n",
       "      <th>url</th>\n",
       "      <th>fp1_date</th>\n",
       "      <th>fp1_time</th>\n",
       "      <th>fp2_date</th>\n",
       "      <th>fp2_time</th>\n",
       "      <th>fp3_date</th>\n",
       "      <th>fp3_time</th>\n",
       "      <th>quali_date</th>\n",
       "      <th>quali_time</th>\n",
       "      <th>sprint_date</th>\n",
       "      <th>sprint_time</th>\n",
       "      <th>datetime</th>\n",
       "    </tr>\n",
       "    <tr>\n",
       "      <th>raceId</th>\n",
       "      <th></th>\n",
       "      <th></th>\n",
       "      <th></th>\n",
       "      <th></th>\n",
       "      <th></th>\n",
       "      <th></th>\n",
       "      <th></th>\n",
       "      <th></th>\n",
       "      <th></th>\n",
       "      <th></th>\n",
       "      <th></th>\n",
       "      <th></th>\n",
       "      <th></th>\n",
       "      <th></th>\n",
       "      <th></th>\n",
       "      <th></th>\n",
       "      <th></th>\n",
       "      <th></th>\n",
       "    </tr>\n",
       "  </thead>\n",
       "  <tbody>\n",
       "    <tr>\n",
       "      <th>833</th>\n",
       "      <td>1950</td>\n",
       "      <td>1</td>\n",
       "      <td>9</td>\n",
       "      <td>British Grand Prix</td>\n",
       "      <td>1950-05-13</td>\n",
       "      <td>\\N</td>\n",
       "      <td>http://en.wikipedia.org/wiki/1950_British_Gran...</td>\n",
       "      <td>\\N</td>\n",
       "      <td>\\N</td>\n",
       "      <td>\\N</td>\n",
       "      <td>\\N</td>\n",
       "      <td>\\N</td>\n",
       "      <td>\\N</td>\n",
       "      <td>\\N</td>\n",
       "      <td>\\N</td>\n",
       "      <td>\\N</td>\n",
       "      <td>\\N</td>\n",
       "      <td>NaT</td>\n",
       "    </tr>\n",
       "  </tbody>\n",
       "</table>\n",
       "</div>"
      ],
      "text/plain": [
       "        year  round  circuitId                name        date time  \\\n",
       "raceId                                                                \n",
       "833     1950      1          9  British Grand Prix  1950-05-13   \\N   \n",
       "\n",
       "                                                      url fp1_date fp1_time  \\\n",
       "raceId                                                                        \n",
       "833     http://en.wikipedia.org/wiki/1950_British_Gran...       \\N       \\N   \n",
       "\n",
       "       fp2_date fp2_time fp3_date fp3_time quali_date quali_time sprint_date  \\\n",
       "raceId                                                                         \n",
       "833          \\N       \\N       \\N       \\N         \\N         \\N          \\N   \n",
       "\n",
       "       sprint_time datetime  \n",
       "raceId                       \n",
       "833             \\N      NaT  "
      ]
     },
     "metadata": {},
     "output_type": "display_data"
    }
   ],
   "source": [
    "# Exemplo de query a partir de raceId\n",
    "display(races_df_with_number.xs(1, level='raceId'))\n",
    "# Exemplo de query a partir de number\n",
    "display(races_df_with_number.xs(1, level='number'))"
   ]
  },
  {
   "cell_type": "code",
   "execution_count": 27,
   "metadata": {},
   "outputs": [
    {
     "data": {
      "text/plain": [
       "{'last_grids': [15, 2, 1, 1, 4],\n",
       " 'last_finishes': [7, 3, 12, 1, 5],\n",
       " 'last_standings': [1, 1, 1, 1, 1],\n",
       " 'last_grids_team': [8.5, 3.5, 2.0, 3.0, 4.5],\n",
       " 'last_finishes_team': [4.5, 6.5, 12.0, 1.0, 6.0],\n",
       " 'last_standings_team': [2, 1, 2, 2, 2]}"
      ]
     },
     "execution_count": 27,
     "metadata": {},
     "output_type": "execute_result"
    }
   ],
   "source": [
    "import numpy as np\n",
    "\n",
    "# Parâmetros pensados em um primeiro momento\n",
    "# - Últimas posições de largada do piloto\n",
    "# - Últimas posições de chegada do piloto\n",
    "# - Histórico de classificação do piloto\n",
    "# - Posição \"média\" de largada da equipe nas últimas corridas\n",
    "# - Posição \"média\" de chegada da equipe nas últimas corridas\n",
    "# - Histórico de classificação da equipe\n",
    "result_df = raw_dfs[\"results\"]\n",
    "driver_standings_df = raw_dfs[\"driver_standings\"]\n",
    "constructor_standings_df = raw_dfs[\"constructor_standings\"]\n",
    "\n",
    "def query_info_for_race(raceId: int, driverId: int):\n",
    "    race_not_found = raceId not in races_df_with_number.index.get_level_values(0)\n",
    "    if race_not_found:\n",
    "        raise ValueError(\"Race is not present in the dataset\")\n",
    "    race_row = races_df_with_number.xs(raceId, level='raceId')\n",
    "    race_number = race_row.index[0]\n",
    "    last_n_races = range(race_number - PREVIOUS_RESULTS_USED, race_number)\n",
    "    last_n_racesId = races_df_with_number.loc[(\n",
    "        slice(None),\n",
    "        last_n_races\n",
    "    ), :].index.get_level_values(0)\n",
    "    last_grids = []\n",
    "    last_finishes = []\n",
    "    last_standings = []\n",
    "    last_grids_team = []\n",
    "    last_finishes_team = []\n",
    "    last_standings_team = []\n",
    "    for prev_raceId in last_n_racesId:\n",
    "        prev_race_results = result_df.loc[prev_raceId]\n",
    "        drivers_in_race_driverId = prev_race_results.index\n",
    "        did_not_result = driverId not in drivers_in_race_driverId\n",
    "        this_driver_constructorId = None\n",
    "        if did_not_result:\n",
    "            last_grids.append(None)\n",
    "            last_finishes.append(None)\n",
    "        else:\n",
    "            this_driver_result = prev_race_results.loc[driverId]\n",
    "            this_driver_constructorId = this_driver_result['constructorId']\n",
    "            this_constructor_result = prev_race_results.query(\n",
    "                f\"constructorId == {this_driver_constructorId}\"\n",
    "            )\n",
    "            last_grids.append(this_driver_result['grid'])\n",
    "            prev_race_position = this_driver_result['position']\n",
    "            last_finishes.append(None if np.isnan(prev_race_position) else int(prev_race_position))\n",
    "            this_constructor_mean_grid = this_constructor_result['grid'].mean()\n",
    "            last_grids_team.append(this_constructor_mean_grid)\n",
    "            this_constructor_mean_position = this_constructor_result['position'].dropna().mean()\n",
    "            last_finishes_team.append(this_constructor_mean_position)\n",
    "        prev_race_standings = driver_standings_df.loc[prev_raceId]\n",
    "        did_not_have_standing = driverId not in prev_race_standings.index\n",
    "        if did_not_have_standing:\n",
    "            last_standings.append(None)\n",
    "        else:\n",
    "            last_standings.append(\n",
    "                prev_race_standings.loc[driverId][\"position\"]\n",
    "            )\n",
    "        did_not_have_teams_standings = prev_raceId not in constructor_standings_df.index.get_level_values(0) or this_driver_constructorId is None\n",
    "        if did_not_have_teams_standings:\n",
    "            last_standings_team.append(None)\n",
    "        else:\n",
    "            prev_team_standings = constructor_standings_df.loc[prev_raceId]\n",
    "            did_not_have_team_standing = this_driver_constructorId not in prev_team_standings.index\n",
    "            if did_not_have_team_standing:\n",
    "                last_standings_team.append(None)\n",
    "            else:\n",
    "                last_standings_team.append(\n",
    "                    prev_team_standings.loc[this_driver_constructorId][\"position\"]\n",
    "                )\n",
    "    return {\n",
    "        \"last_grids\": last_grids,\n",
    "        \"last_finishes\": last_finishes,\n",
    "        \"last_standings\": last_standings,\n",
    "        \"last_grids_team\": last_grids_team,\n",
    "        \"last_finishes_team\": last_finishes_team,\n",
    "        \"last_standings_team\": last_standings_team\n",
    "    }\n",
    "\n",
    "\n",
    "query_info_for_race(1, 1)"
   ]
  },
  {
   "cell_type": "code",
   "execution_count": 19,
   "metadata": {},
   "outputs": [
    {
     "data": {
      "text/plain": [
       "array([  18,   19,   20,   21,   22,   23,   24,   25,   26,   27,   28,\n",
       "         29,   30,   31,   32,   33,   34,   35,   36,   37,   38,   39,\n",
       "         40,   41,   42,   43,   44,   45,   46,   47,   48,   49,   50,\n",
       "         51,   52,    1,    2,    3,    4,    5,    6,    7,    8,    9,\n",
       "         10,   11,   12,   13,   14,   15,   16,   17,  337,  338,  339,\n",
       "        340,  341,  342,  343,  344,  345,  346,  347,  348,  349,  350,\n",
       "        351,  352,  353,  354,  355,  841,  842,  843,  844,  845,  846,\n",
       "        847,  848,  849,  850,  851,  852,  853,  854,  855,  856,  857,\n",
       "        858,  859,  860,  861,  862,  863,  864,  865,  866,  867,  868,\n",
       "        869,  870,  871,  872,  873,  874,  875,  876,  877,  878,  879,\n",
       "        880,  881,  882,  883,  884,  885,  886,  887,  888,  890,  891,\n",
       "        892,  893,  894,  895,  896,  897,  898,  899,  900,  901,  902,\n",
       "        903,  904,  905,  906,  907,  908,  909,  910,  911,  912,  913,\n",
       "        914,  915,  916,  917,  918,  926,  927,  928,  929,  930,  931,\n",
       "        932,  933,  934,  936,  937,  938,  939,  940,  941,  942,  943,\n",
       "        944,  945,  948,  949,  950,  951,  952,  953,  954,  955,  956,\n",
       "        957,  958,  959,  960,  961,  962,  963,  964,  965,  966,  967,\n",
       "        968,  969,  970,  971,  972,  973,  974,  975,  976,  977,  978,\n",
       "        979,  980,  981,  982,  983,  984,  985,  986,  987,  988,  989,\n",
       "        990,  991,  992,  993,  994,  995,  996,  997,  998,  999, 1000,\n",
       "       1001, 1002, 1003, 1004, 1005, 1006, 1007, 1008, 1009, 1010, 1011,\n",
       "       1012, 1013, 1014, 1015, 1016, 1017, 1018, 1019, 1020, 1021, 1022,\n",
       "       1023, 1024, 1025, 1026, 1027, 1028, 1029, 1030, 1031, 1032, 1033,\n",
       "       1034, 1035, 1036, 1037, 1038, 1039, 1040, 1041, 1042, 1043, 1044,\n",
       "       1045, 1047, 1052, 1053, 1054, 1055, 1056, 1057, 1059, 1058, 1060,\n",
       "       1061, 1062, 1063, 1064, 1065, 1066, 1067, 1069, 1070, 1071, 1051,\n",
       "       1072, 1073, 1074, 1075, 1076, 1077, 1078, 1079, 1080, 1081, 1082,\n",
       "       1083, 1084, 1085, 1086, 1087, 1088, 1089, 1091, 1092, 1093, 1094,\n",
       "       1095, 1096, 1098, 1099, 1100, 1101, 1102, 1104, 1105, 1106, 1107,\n",
       "       1108, 1109, 1110])"
      ]
     },
     "metadata": {},
     "output_type": "display_data"
    }
   ],
   "source": [
    "# Todas as racesId que um piloto participou\n",
    "race_ids_this_driver = result_df.xs(1, level='driverId').index.values\n",
    "display(race_ids_this_driver)"
   ]
  },
  {
   "cell_type": "code",
   "execution_count": 20,
   "metadata": {},
   "outputs": [
    {
     "data": {
      "text/plain": [
       "{'last_grids': [2, 4, 1, 1, 2],\n",
       " 'last_finishes': [2, 4, 1, None, 7],\n",
       " 'last_standings': [1, 1, 1, 1, 2],\n",
       " 'last_grids_team': [1.5, 3.5, 1.5, 2.5, 3.0],\n",
       " 'last_finishes_team': [1.5, 3.5, 1.0, 2.0, 5.0],\n",
       " 'last_standings_team': [11, 11, 11, 11, 11]}"
      ]
     },
     "metadata": {},
     "output_type": "display_data"
    },
    {
     "data": {
      "text/plain": [
       "{'last_grids': [4, 1, 1, 2, 1],\n",
       " 'last_finishes': [4, 1, None, 7, 1],\n",
       " 'last_standings': [1, 1, 1, 2, 1],\n",
       " 'last_grids_team': [3.5, 1.5, 2.5, 3.0, 2.0],\n",
       " 'last_finishes_team': [3.5, 1.0, 2.0, 5.0, 3.0],\n",
       " 'last_standings_team': [11, 11, 11, 11, 1]}"
      ]
     },
     "metadata": {},
     "output_type": "display_data"
    },
    {
     "data": {
      "text/plain": [
       "{'last_grids': [1, 1, 2, 1, 9],\n",
       " 'last_finishes': [1, None, 7, 1, 5],\n",
       " 'last_standings': [1, 1, 2, 1, 1],\n",
       " 'last_grids_team': [1.5, 2.5, 3.0, 2.0, 8.5],\n",
       " 'last_finishes_team': [1.0, 2.0, 5.0, 3.0, 4.0],\n",
       " 'last_standings_team': [11, 11, 11, 1, 1]}"
      ]
     },
     "metadata": {},
     "output_type": "display_data"
    },
    {
     "data": {
      "text/plain": [
       "{'last_grids': [1, 2, 1, 9, 3],\n",
       " 'last_finishes': [None, 7, 1, 5, 13],\n",
       " 'last_standings': [1, 2, 1, 1, 3],\n",
       " 'last_grids_team': [2.5, 3.0, 2.0, 8.5, 4.0],\n",
       " 'last_finishes_team': [2.0, 5.0, 3.0, 4.0, 9.0],\n",
       " 'last_standings_team': [11, 11, 1, 1, 3]}"
      ]
     },
     "metadata": {},
     "output_type": "display_data"
    },
    {
     "data": {
      "text/plain": [
       "{'last_grids': [2, 1, 9, 3, 5],\n",
       " 'last_finishes': [7, 1, 5, 13, 3],\n",
       " 'last_standings': [2, 1, 1, 3, 2],\n",
       " 'last_grids_team': [3.0, 2.0, 8.5, 4.0, 5.5],\n",
       " 'last_finishes_team': [5.0, 3.0, 4.0, 9.0, 3.0],\n",
       " 'last_standings_team': [11, 1, 1, 3, 3]}"
      ]
     },
     "metadata": {},
     "output_type": "display_data"
    }
   ],
   "source": [
    "for race_id in race_ids_this_driver[0:5]:\n",
    "    display(query_info_for_race(race_id, 1))"
   ]
  },
  {
   "cell_type": "code",
   "execution_count": 28,
   "metadata": {},
   "outputs": [
    {
     "data": {
      "text/plain": [
       "array([830, 815, 844,   1,   4, 847, 846, 839, 840, 852, 842, 822, 855,\n",
       "       848, 825, 817, 858, 807, 832, 857])"
      ]
     },
     "metadata": {},
     "output_type": "display_data"
    },
    {
     "data": {
      "text/plain": [
       "{'last_grids': [None, None, None, None, None],\n",
       " 'last_finishes': [None, None, None, None, None],\n",
       " 'last_standings': [None, None, None, None, None],\n",
       " 'last_grids_team': [],\n",
       " 'last_finishes_team': [],\n",
       " 'last_standings_team': [None, None, None, None, None]}"
      ]
     },
     "metadata": {},
     "output_type": "display_data"
    },
    {
     "data": {
      "text/plain": [
       "{'last_grids': [None, None, None, None, 11],\n",
       " 'last_finishes': [None, None, None, None, None],\n",
       " 'last_standings': [None, None, None, None, 13],\n",
       " 'last_grids_team': [9.0],\n",
       " 'last_finishes_team': [9.0],\n",
       " 'last_standings_team': [None, None, None, None, 7]}"
      ]
     },
     "metadata": {},
     "output_type": "display_data"
    },
    {
     "data": {
      "text/plain": [
       "{'last_grids': [None, None, None, 11, 6],\n",
       " 'last_finishes': [None, None, None, None, 7],\n",
       " 'last_standings': [None, None, None, 13, 10],\n",
       " 'last_grids_team': [9.0, 10.5],\n",
       " 'last_finishes_team': [9.0, 7.5],\n",
       " 'last_standings_team': [None, None, None, 7, 5]}"
      ]
     },
     "metadata": {},
     "output_type": "display_data"
    },
    {
     "data": {
      "text/plain": [
       "{'last_grids': [None, None, 11, 6, 13],\n",
       " 'last_finishes': [None, None, None, 7, 17],\n",
       " 'last_standings': [None, None, 13, 10, 11],\n",
       " 'last_grids_team': [9.0, 10.5, 13.5],\n",
       " 'last_finishes_team': [9.0, 7.5, 15.0],\n",
       " 'last_standings_team': [None, None, 7, 5, 6]}"
      ]
     },
     "metadata": {},
     "output_type": "display_data"
    },
    {
     "data": {
      "text/plain": [
       "{'last_grids': [None, 11, 6, 13, 15],\n",
       " 'last_finishes': [None, None, 7, 17, None],\n",
       " 'last_standings': [None, 13, 10, 11, 11],\n",
       " 'last_grids_team': [9.0, 10.5, 13.5, 12.0],\n",
       " 'last_finishes_team': [9.0, 7.5, 15.0, nan],\n",
       " 'last_standings_team': [None, 7, 5, 6, 7]}"
      ]
     },
     "metadata": {},
     "output_type": "display_data"
    },
    {
     "data": {
      "text/plain": [
       "{'last_grids': [None, None, None, None, None],\n",
       " 'last_finishes': [None, None, None, None, None],\n",
       " 'last_standings': [None, None, None, None, None],\n",
       " 'last_grids_team': [],\n",
       " 'last_finishes_team': [],\n",
       " 'last_standings_team': [None, None, None, None, None]}"
      ]
     },
     "metadata": {},
     "output_type": "display_data"
    },
    {
     "data": {
      "text/plain": [
       "{'last_grids': [None, None, None, None, 13],\n",
       " 'last_finishes': [None, None, None, None, None],\n",
       " 'last_standings': [None, None, None, None, None],\n",
       " 'last_grids_team': [11.0],\n",
       " 'last_finishes_team': [nan],\n",
       " 'last_standings_team': [None, None, None, None, None]}"
      ]
     },
     "metadata": {},
     "output_type": "display_data"
    },
    {
     "data": {
      "text/plain": [
       "{'last_grids': [None, None, None, 13, 16],\n",
       " 'last_finishes': [None, None, None, None, None],\n",
       " 'last_standings': [None, None, None, None, 20],\n",
       " 'last_grids_team': [11.0, 13.0],\n",
       " 'last_finishes_team': [nan, 7.0],\n",
       " 'last_standings_team': [None, None, None, None, 5]}"
      ]
     },
     "metadata": {},
     "output_type": "display_data"
    },
    {
     "data": {
      "text/plain": [
       "{'last_grids': [None, None, 13, 16, 12],\n",
       " 'last_finishes': [None, None, None, None, 17],\n",
       " 'last_standings': [None, None, None, 20, 21],\n",
       " 'last_grids_team': [11.0, 13.0, 12.5],\n",
       " 'last_finishes_team': [nan, 7.0, 13.5],\n",
       " 'last_standings_team': [None, None, None, 5, 6]}"
      ]
     },
     "metadata": {},
     "output_type": "display_data"
    },
    {
     "data": {
      "text/plain": [
       "{'last_grids': [None, 13, 16, 12, 15],\n",
       " 'last_finishes': [None, None, None, 17, 14],\n",
       " 'last_standings': [None, None, 20, 21, 18],\n",
       " 'last_grids_team': [11.0, 13.0, 12.5, 19.5],\n",
       " 'last_finishes_team': [nan, 7.0, 13.5, 12.0],\n",
       " 'last_standings_team': [None, None, 5, 6, 6]}"
      ]
     },
     "metadata": {},
     "output_type": "display_data"
    },
    {
     "data": {
      "text/plain": [
       "{'last_grids': [None, None, None, None, None],\n",
       " 'last_finishes': [None, None, None, None, None],\n",
       " 'last_standings': [None, None, None, None, None],\n",
       " 'last_grids_team': [],\n",
       " 'last_finishes_team': [],\n",
       " 'last_standings_team': [None, None, None, None, None]}"
      ]
     },
     "metadata": {},
     "output_type": "display_data"
    },
    {
     "data": {
      "text/plain": [
       "{'last_grids': [None, None, None, None, 18],\n",
       " 'last_finishes': [None, None, None, None, 13],\n",
       " 'last_standings': [None, None, None, None, 13],\n",
       " 'last_grids_team': [17.5],\n",
       " 'last_finishes_team': [13.0],\n",
       " 'last_standings_team': [None, None, None, None, 7]}"
      ]
     },
     "metadata": {},
     "output_type": "display_data"
    },
    {
     "data": {
      "text/plain": [
       "{'last_grids': [None, None, None, 18, 19],\n",
       " 'last_finishes': [None, None, None, 13, 12],\n",
       " 'last_standings': [None, None, None, 13, 16],\n",
       " 'last_grids_team': [17.5, 18.0],\n",
       " 'last_finishes_team': [13.0, 10.5],\n",
       " 'last_standings_team': [None, None, None, 7, 8]}"
      ]
     },
     "metadata": {},
     "output_type": "display_data"
    },
    {
     "data": {
      "text/plain": [
       "{'last_grids': [None, None, 18, 19, 19],\n",
       " 'last_finishes': [None, None, 13, 12, 19],\n",
       " 'last_standings': [None, None, 13, 16, 16],\n",
       " 'last_grids_team': [17.5, 18.0, 19.5],\n",
       " 'last_finishes_team': [13.0, 10.5, 17.5],\n",
       " 'last_standings_team': [None, None, 7, 8, 8]}"
      ]
     },
     "metadata": {},
     "output_type": "display_data"
    },
    {
     "data": {
      "text/plain": [
       "{'last_grids': [None, 18, 19, 19, 13],\n",
       " 'last_finishes': [None, 13, 12, 19, 6],\n",
       " 'last_standings': [None, 13, 16, 16, 13],\n",
       " 'last_grids_team': [17.5, 18.0, 19.5, 15.5],\n",
       " 'last_finishes_team': [13.0, 10.5, 17.5, 8.5],\n",
       " 'last_standings_team': [None, 7, 8, 8, 9]}"
      ]
     },
     "metadata": {},
     "output_type": "display_data"
    },
    {
     "data": {
      "text/plain": [
       "{'last_grids': [2, 4, 1, 1, 2],\n",
       " 'last_finishes': [2, 4, 1, None, 7],\n",
       " 'last_standings': [1, 1, 1, 1, 2],\n",
       " 'last_grids_team': [1.5, 3.5, 1.5, 2.5, 3.0],\n",
       " 'last_finishes_team': [1.5, 3.5, 1.0, 2.0, 5.0],\n",
       " 'last_standings_team': [11, 11, 11, 11, 11]}"
      ]
     },
     "metadata": {},
     "output_type": "display_data"
    },
    {
     "data": {
      "text/plain": [
       "{'last_grids': [4, 1, 1, 2, 1],\n",
       " 'last_finishes': [4, 1, None, 7, 1],\n",
       " 'last_standings': [1, 1, 1, 2, 1],\n",
       " 'last_grids_team': [3.5, 1.5, 2.5, 3.0, 2.0],\n",
       " 'last_finishes_team': [3.5, 1.0, 2.0, 5.0, 3.0],\n",
       " 'last_standings_team': [11, 11, 11, 11, 1]}"
      ]
     },
     "metadata": {},
     "output_type": "display_data"
    },
    {
     "data": {
      "text/plain": [
       "{'last_grids': [1, 1, 2, 1, 9],\n",
       " 'last_finishes': [1, None, 7, 1, 5],\n",
       " 'last_standings': [1, 1, 2, 1, 1],\n",
       " 'last_grids_team': [1.5, 2.5, 3.0, 2.0, 8.5],\n",
       " 'last_finishes_team': [1.0, 2.0, 5.0, 3.0, 4.0],\n",
       " 'last_standings_team': [11, 11, 11, 1, 1]}"
      ]
     },
     "metadata": {},
     "output_type": "display_data"
    },
    {
     "data": {
      "text/plain": [
       "{'last_grids': [1, 2, 1, 9, 3],\n",
       " 'last_finishes': [None, 7, 1, 5, 13],\n",
       " 'last_standings': [1, 2, 1, 1, 3],\n",
       " 'last_grids_team': [2.5, 3.0, 2.0, 8.5, 4.0],\n",
       " 'last_finishes_team': [2.0, 5.0, 3.0, 4.0, 9.0],\n",
       " 'last_standings_team': [11, 11, 1, 1, 3]}"
      ]
     },
     "metadata": {},
     "output_type": "display_data"
    },
    {
     "data": {
      "text/plain": [
       "{'last_grids': [2, 1, 9, 3, 5],\n",
       " 'last_finishes': [7, 1, 5, 13, 3],\n",
       " 'last_standings': [2, 1, 1, 3, 2],\n",
       " 'last_grids_team': [3.0, 2.0, 8.5, 4.0, 5.5],\n",
       " 'last_finishes_team': [5.0, 3.0, 4.0, 9.0, 3.0],\n",
       " 'last_standings_team': [11, 1, 1, 3, 3]}"
      ]
     },
     "metadata": {},
     "output_type": "display_data"
    },
    {
     "data": {
      "text/plain": [
       "{'last_grids': [1, 3, 2, 4, 4],\n",
       " 'last_finishes': [1, 3, None, 2, 3],\n",
       " 'last_standings': [2, 2, 2, 2, 3],\n",
       " 'last_grids_team': [1.5, 3.5, 1.5, 2.5, 3.0],\n",
       " 'last_finishes_team': [1.5, 3.5, 1.0, 2.0, 5.0],\n",
       " 'last_standings_team': [11, 11, 11, 11, 11]}"
      ]
     },
     "metadata": {},
     "output_type": "display_data"
    },
    {
     "data": {
      "text/plain": [
       "{'last_grids': [3, 2, 4, 4, 11],\n",
       " 'last_finishes': [3, None, 2, 3, 4],\n",
       " 'last_standings': [2, 2, 2, 3, 4],\n",
       " 'last_grids_team': [3.5, 1.5, 2.5, 3.0, 15.5],\n",
       " 'last_finishes_team': [3.5, 1.0, 2.0, 5.0, 4.0],\n",
       " 'last_standings_team': [11, 11, 11, 11, 4]}"
      ]
     },
     "metadata": {},
     "output_type": "display_data"
    },
    {
     "data": {
      "text/plain": [
       "{'last_grids': [2, 4, 4, 11, 7],\n",
       " 'last_finishes': [None, 2, 3, 4, 8],\n",
       " 'last_standings': [2, 2, 3, 4, 7],\n",
       " 'last_grids_team': [1.5, 2.5, 3.0, 15.5, 10.0],\n",
       " 'last_finishes_team': [1.0, 2.0, 5.0, 4.0, 9.5],\n",
       " 'last_standings_team': [11, 11, 11, 4, 5]}"
      ]
     },
     "metadata": {},
     "output_type": "display_data"
    },
    {
     "data": {
      "text/plain": [
       "{'last_grids': [4, 4, 11, 7, 10],\n",
       " 'last_finishes': [2, 3, 4, 8, 10],\n",
       " 'last_standings': [2, 3, 4, 7, 9],\n",
       " 'last_grids_team': [2.5, 3.0, 15.5, 10.0, 12.0],\n",
       " 'last_finishes_team': [2.0, 5.0, 4.0, 9.5, 10.0],\n",
       " 'last_standings_team': [11, 11, 4, 5, 6]}"
      ]
     },
     "metadata": {},
     "output_type": "display_data"
    },
    {
     "data": {
      "text/plain": [
       "{'last_grids': [4, 11, 7, 10, 2],\n",
       " 'last_finishes': [3, 4, 8, 10, None],\n",
       " 'last_standings': [3, 4, 7, 9, 10],\n",
       " 'last_grids_team': [3.0, 15.5, 10.0, 12.0, 6.0],\n",
       " 'last_finishes_team': [5.0, 4.0, 9.5, 10.0, nan],\n",
       " 'last_standings_team': [11, 4, 5, 6, 7]}"
      ]
     },
     "metadata": {},
     "output_type": "display_data"
    },
    {
     "data": {
      "text/plain": [
       "{'last_grids': [None, None, None, None, None],\n",
       " 'last_finishes': [None, None, None, None, None],\n",
       " 'last_standings': [None, None, None, None, None],\n",
       " 'last_grids_team': [],\n",
       " 'last_finishes_team': [],\n",
       " 'last_standings_team': [None, None, None, None, None]}"
      ]
     },
     "metadata": {},
     "output_type": "display_data"
    },
    {
     "data": {
      "text/plain": [
       "{'last_grids': [None, None, None, None, 19],\n",
       " 'last_finishes': [None, None, None, None, 16],\n",
       " 'last_standings': [None, None, None, None, 16],\n",
       " 'last_grids_team': [19.5],\n",
       " 'last_finishes_team': [16.5],\n",
       " 'last_standings_team': [None, None, None, None, 10]}"
      ]
     },
     "metadata": {},
     "output_type": "display_data"
    },
    {
     "data": {
      "text/plain": [
       "{'last_grids': [None, None, None, 19, 19],\n",
       " 'last_finishes': [None, None, None, 16, 15],\n",
       " 'last_standings': [None, None, None, 16, 16],\n",
       " 'last_grids_team': [19.5, 19.5],\n",
       " 'last_finishes_team': [16.5, 15.5],\n",
       " 'last_standings_team': [None, None, None, 10, 10]}"
      ]
     },
     "metadata": {},
     "output_type": "display_data"
    },
    {
     "data": {
      "text/plain": [
       "{'last_grids': [None, None, 19, 19, 17],\n",
       " 'last_finishes': [None, None, 16, 15, 16],\n",
       " 'last_standings': [None, None, 16, 16, 19],\n",
       " 'last_grids_team': [19.5, 19.5, 17.5],\n",
       " 'last_finishes_team': [16.5, 15.5, 16.5],\n",
       " 'last_standings_team': [None, None, 10, 10, 10]}"
      ]
     },
     "metadata": {},
     "output_type": "display_data"
    },
    {
     "data": {
      "text/plain": [
       "{'last_grids': [None, 19, 19, 17, 16],\n",
       " 'last_finishes': [None, 16, 15, 16, 15],\n",
       " 'last_standings': [None, 16, 16, 19, 19],\n",
       " 'last_grids_team': [19.5, 19.5, 17.5, 8.0],\n",
       " 'last_finishes_team': [16.5, 15.5, 16.5, 15.5],\n",
       " 'last_standings_team': [None, 10, 10, 10, 10]}"
      ]
     },
     "metadata": {},
     "output_type": "display_data"
    },
    {
     "data": {
      "text/plain": [
       "{'last_grids': [None, None, None, None, None],\n",
       " 'last_finishes': [None, None, None, None, None],\n",
       " 'last_standings': [None, None, None, None, None],\n",
       " 'last_grids_team': [],\n",
       " 'last_finishes_team': [],\n",
       " 'last_standings_team': [None, None, None, None, None]}"
      ]
     },
     "metadata": {},
     "output_type": "display_data"
    },
    {
     "data": {
      "text/plain": [
       "{'last_grids': [None, None, None, None, 8],\n",
       " 'last_finishes': [None, None, None, None, 12],\n",
       " 'last_standings': [None, None, None, None, 12],\n",
       " 'last_grids_team': [13.0],\n",
       " 'last_finishes_team': [12.0],\n",
       " 'last_standings_team': [None, None, None, None, 9]}"
      ]
     },
     "metadata": {},
     "output_type": "display_data"
    },
    {
     "data": {
      "text/plain": [
       "{'last_grids': [None, None, None, 8, 9],\n",
       " 'last_finishes': [None, None, None, 12, 6],\n",
       " 'last_standings': [None, None, None, 12, 7],\n",
       " 'last_grids_team': [13.0, 8.0],\n",
       " 'last_finishes_team': [12.0, 6.0],\n",
       " 'last_standings_team': [None, None, None, 9, 5]}"
      ]
     },
     "metadata": {},
     "output_type": "display_data"
    },
    {
     "data": {
      "text/plain": [
       "{'last_grids': [None, None, 8, 9, 15],\n",
       " 'last_finishes': [None, None, 12, 6, 18],\n",
       " 'last_standings': [None, None, 12, 7, 8],\n",
       " 'last_grids_team': [13.0, 8.0, 14.5],\n",
       " 'last_finishes_team': [12.0, 6.0, 16.0],\n",
       " 'last_standings_team': [None, None, 9, 5, 7]}"
      ]
     },
     "metadata": {},
     "output_type": "display_data"
    },
    {
     "data": {
      "text/plain": [
       "{'last_grids': [None, 8, 9, 15, 7],\n",
       " 'last_finishes': [None, 12, 6, 18, 8],\n",
       " 'last_standings': [None, 12, 7, 8, 9],\n",
       " 'last_grids_team': [13.0, 8.0, 14.5, 8.0],\n",
       " 'last_finishes_team': [12.0, 6.0, 16.0, 7.5],\n",
       " 'last_standings_team': [None, 9, 5, 7, 4]}"
      ]
     },
     "metadata": {},
     "output_type": "display_data"
    },
    {
     "data": {
      "text/plain": [
       "{'last_grids': [None, None, None, None, None],\n",
       " 'last_finishes': [None, None, None, None, None],\n",
       " 'last_standings': [None, None, None, None, None],\n",
       " 'last_grids_team': [],\n",
       " 'last_finishes_team': [],\n",
       " 'last_standings_team': [None, None, None, None, None]}"
      ]
     },
     "metadata": {},
     "output_type": "display_data"
    },
    {
     "data": {
      "text/plain": [
       "{'last_grids': [None, None, None, None, 17],\n",
       " 'last_finishes': [None, None, None, None, 16],\n",
       " 'last_standings': [None, None, None, None, 24],\n",
       " 'last_grids_team': [16.0],\n",
       " 'last_finishes_team': [16.0],\n",
       " 'last_standings_team': [None, None, None, None, 10]}"
      ]
     },
     "metadata": {},
     "output_type": "display_data"
    },
    {
     "data": {
      "text/plain": [
       "{'last_grids': [None, None, None, 17, 22],\n",
       " 'last_finishes': [None, None, None, 16, 18],\n",
       " 'last_standings': [None, None, None, 24, 24],\n",
       " 'last_grids_team': [16.0, 17.5],\n",
       " 'last_finishes_team': [16.0, 18.0],\n",
       " 'last_standings_team': [None, None, None, 10, 10]}"
      ]
     },
     "metadata": {},
     "output_type": "display_data"
    },
    {
     "data": {
      "text/plain": [
       "{'last_grids': [None, None, 17, 22, 21],\n",
       " 'last_finishes': [None, None, 16, 18, 18],\n",
       " 'last_standings': [None, None, 24, 24, 24],\n",
       " 'last_grids_team': [16.0, 17.5, 20.0],\n",
       " 'last_finishes_team': [16.0, 18.0, 17.0],\n",
       " 'last_standings_team': [None, None, 10, 10, 10]}"
      ]
     },
     "metadata": {},
     "output_type": "display_data"
    },
    {
     "data": {
      "text/plain": [
       "{'last_grids': [None, 17, 22, 21, 20],\n",
       " 'last_finishes': [None, 16, 18, 18, 16],\n",
       " 'last_standings': [None, 24, 24, 24, 24],\n",
       " 'last_grids_team': [16.0, 17.5, 20.0, 20.5],\n",
       " 'last_finishes_team': [16.0, 18.0, 17.0, 15.5],\n",
       " 'last_standings_team': [None, 10, 10, 10, 10]}"
      ]
     },
     "metadata": {},
     "output_type": "display_data"
    },
    {
     "data": {
      "text/plain": [
       "{'last_grids': [None, None, None, None, None],\n",
       " 'last_finishes': [None, None, None, None, None],\n",
       " 'last_standings': [None, None, None, None, None],\n",
       " 'last_grids_team': [],\n",
       " 'last_finishes_team': [],\n",
       " 'last_standings_team': [None, None, None, None, None]}"
      ]
     },
     "metadata": {},
     "output_type": "display_data"
    },
    {
     "data": {
      "text/plain": [
       "{'last_grids': [None, None, None, None, 20],\n",
       " 'last_finishes': [None, None, None, None, None],\n",
       " 'last_standings': [None, None, None, None, 16],\n",
       " 'last_grids_team': [13.5],\n",
       " 'last_finishes_team': [6.0],\n",
       " 'last_standings_team': [None, None, None, None, 4]}"
      ]
     },
     "metadata": {},
     "output_type": "display_data"
    },
    {
     "data": {
      "text/plain": [
       "{'last_grids': [None, None, None, 20, 10],\n",
       " 'last_finishes': [None, None, None, None, None],\n",
       " 'last_standings': [None, None, None, 16, 20],\n",
       " 'last_grids_team': [13.5, 8.0],\n",
       " 'last_finishes_team': [6.0, 14.0],\n",
       " 'last_standings_team': [None, None, None, 4, 6]}"
      ]
     },
     "metadata": {},
     "output_type": "display_data"
    },
    {
     "data": {
      "text/plain": [
       "{'last_grids': [None, None, 20, 10, 12],\n",
       " 'last_finishes': [None, None, None, None, None],\n",
       " 'last_standings': [None, None, 16, 20, 21],\n",
       " 'last_grids_team': [13.5, 8.0, 10.0],\n",
       " 'last_finishes_team': [6.0, 14.0, 6.0],\n",
       " 'last_standings_team': [None, None, 4, 6, 5]}"
      ]
     },
     "metadata": {},
     "output_type": "display_data"
    },
    {
     "data": {
      "text/plain": [
       "{'last_grids': [None, 20, 10, 12, 11],\n",
       " 'last_finishes': [None, None, None, None, 11],\n",
       " 'last_standings': [None, 16, 20, 21, 16],\n",
       " 'last_grids_team': [13.5, 8.0, 10.0, 8.5],\n",
       " 'last_finishes_team': [6.0, 14.0, 6.0, 10.0],\n",
       " 'last_standings_team': [None, 4, 6, 5, 5]}"
      ]
     },
     "metadata": {},
     "output_type": "display_data"
    },
    {
     "data": {
      "text/plain": [
       "{'last_grids': [None, None, None, None, None],\n",
       " 'last_finishes': [None, None, None, None, None],\n",
       " 'last_standings': [None, None, None, None, None],\n",
       " 'last_grids_team': [],\n",
       " 'last_finishes_team': [],\n",
       " 'last_standings_team': [None, None, None, None, None]}"
      ]
     },
     "metadata": {},
     "output_type": "display_data"
    },
    {
     "data": {
      "text/plain": [
       "{'last_grids': [None, None, None, None, 13],\n",
       " 'last_finishes': [None, None, None, None, 9],\n",
       " 'last_standings': [None, None, None, None, 9],\n",
       " 'last_grids_team': [9.0],\n",
       " 'last_finishes_team': [13.0],\n",
       " 'last_standings_team': [None, None, None, None, 5]}"
      ]
     },
     "metadata": {},
     "output_type": "display_data"
    },
    {
     "data": {
      "text/plain": [
       "{'last_grids': [None, None, None, 13, 20],\n",
       " 'last_finishes': [None, None, None, 9, 12],\n",
       " 'last_standings': [None, None, None, 9, 11],\n",
       " 'last_grids_team': [9.0, 12.5],\n",
       " 'last_finishes_team': [13.0, 9.5],\n",
       " 'last_standings_team': [None, None, None, 5, 5]}"
      ]
     },
     "metadata": {},
     "output_type": "display_data"
    },
    {
     "data": {
      "text/plain": [
       "{'last_grids': [None, None, 13, 20, 14],\n",
       " 'last_finishes': [None, None, 9, 12, 15],\n",
       " 'last_standings': [None, None, 9, 11, 13],\n",
       " 'last_grids_team': [9.0, 12.5, 11.5],\n",
       " 'last_finishes_team': [13.0, 9.5, 12.5],\n",
       " 'last_standings_team': [None, None, 5, 5, 6]}"
      ]
     },
     "metadata": {},
     "output_type": "display_data"
    },
    {
     "data": {
      "text/plain": [
       "{'last_grids': [None, 13, 20, 14, 16],\n",
       " 'last_finishes': [None, 9, 12, 15, None],\n",
       " 'last_standings': [None, 9, 11, 13, 13],\n",
       " 'last_grids_team': [9.0, 12.5, 11.5, 14.0],\n",
       " 'last_finishes_team': [13.0, 9.5, 12.5, 10.0],\n",
       " 'last_standings_team': [None, 5, 5, 6, 6]}"
      ]
     },
     "metadata": {},
     "output_type": "display_data"
    },
    {
     "data": {
      "text/plain": [
       "{'last_grids': [None, None, None, None, None],\n",
       " 'last_finishes': [None, None, None, None, None],\n",
       " 'last_standings': [None, None, None, None, None],\n",
       " 'last_grids_team': [],\n",
       " 'last_finishes_team': [],\n",
       " 'last_standings_team': [None, None, None, None, None]}"
      ]
     },
     "metadata": {},
     "output_type": "display_data"
    },
    {
     "data": {
      "text/plain": [
       "{'last_grids': [None, None, None, None, 15],\n",
       " 'last_finishes': [None, None, None, None, 14],\n",
       " 'last_standings': [None, None, None, None, 22],\n",
       " 'last_grids_team': [14.5],\n",
       " 'last_finishes_team': [14.0],\n",
       " 'last_standings_team': [None, None, None, None, 6]}"
      ]
     },
     "metadata": {},
     "output_type": "display_data"
    },
    {
     "data": {
      "text/plain": [
       "{'last_grids': [None, None, 15, 14, None],\n",
       " 'last_finishes': [None, None, 14, 13, None],\n",
       " 'last_standings': [None, None, 22, 22, 22],\n",
       " 'last_grids_team': [14.5, 16.5],\n",
       " 'last_finishes_team': [14.0, 13.0],\n",
       " 'last_standings_team': [None, None, 6, 6, None]}"
      ]
     },
     "metadata": {},
     "output_type": "display_data"
    },
    {
     "data": {
      "text/plain": [
       "{'last_grids': [None, 15, 14, None, 20],\n",
       " 'last_finishes': [None, 14, 13, None, 13],\n",
       " 'last_standings': [None, 22, 22, 22, 22],\n",
       " 'last_grids_team': [14.5, 16.5, 18.5],\n",
       " 'last_finishes_team': [14.0, 13.0, 13.0],\n",
       " 'last_standings_team': [None, 6, 6, None, 6]}"
      ]
     },
     "metadata": {},
     "output_type": "display_data"
    },
    {
     "data": {
      "text/plain": [
       "{'last_grids': [15, 14, None, 20, 19],\n",
       " 'last_finishes': [14, 13, None, 13, 12],\n",
       " 'last_standings': [22, 22, 22, 22, 21],\n",
       " 'last_grids_team': [14.5, 16.5, 18.5, 18.5],\n",
       " 'last_finishes_team': [14.0, 13.0, 13.0, 12.0],\n",
       " 'last_standings_team': [6, 6, None, 6, 6]}"
      ]
     },
     "metadata": {},
     "output_type": "display_data"
    },
    {
     "data": {
      "text/plain": [
       "{'last_grids': [None, None, None, None, None],\n",
       " 'last_finishes': [None, None, None, None, None],\n",
       " 'last_standings': [None, None, None, None, None],\n",
       " 'last_grids_team': [],\n",
       " 'last_finishes_team': [],\n",
       " 'last_standings_team': [None, None, None, None, None]}"
      ]
     },
     "metadata": {},
     "output_type": "display_data"
    },
    {
     "data": {
      "text/plain": [
       "{'last_grids': [None, None, None, None, 16],\n",
       " 'last_finishes': [None, None, None, None, 14],\n",
       " 'last_standings': [None, None, None, None, 14],\n",
       " 'last_grids_team': [16.5],\n",
       " 'last_finishes_team': [14.0],\n",
       " 'last_standings_team': [None, None, None, None, 9]}"
      ]
     },
     "metadata": {},
     "output_type": "display_data"
    },
    {
     "data": {
      "text/plain": [
       "{'last_grids': [None, None, None, 16, 18],\n",
       " 'last_finishes': [None, None, None, 14, 11],\n",
       " 'last_standings': [None, None, None, 14, 15],\n",
       " 'last_grids_team': [16.5, 17.0],\n",
       " 'last_finishes_team': [14.0, 11.0],\n",
       " 'last_standings_team': [None, None, None, 9, 9]}"
      ]
     },
     "metadata": {},
     "output_type": "display_data"
    },
    {
     "data": {
      "text/plain": [
       "{'last_grids': [None, None, 16, 18, 16],\n",
       " 'last_finishes': [None, None, 14, 11, 13],\n",
       " 'last_standings': [None, None, 14, 15, 16],\n",
       " 'last_grids_team': [16.5, 17.0, 15.0],\n",
       " 'last_finishes_team': [14.0, 11.0, 13.5],\n",
       " 'last_standings_team': [None, None, 9, 9, 9]}"
      ]
     },
     "metadata": {},
     "output_type": "display_data"
    },
    {
     "data": {
      "text/plain": [
       "{'last_grids': [None, 16, 18, 16, 15],\n",
       " 'last_finishes': [None, 14, 11, 13, 14],\n",
       " 'last_standings': [None, 14, 15, 16, 16],\n",
       " 'last_grids_team': [16.5, 17.0, 15.0, 16.0],\n",
       " 'last_finishes_team': [14.0, 11.0, 13.5, 12.5],\n",
       " 'last_standings_team': [None, 9, 9, 9, 9]}"
      ]
     },
     "metadata": {},
     "output_type": "display_data"
    },
    {
     "data": {
      "text/plain": [
       "{'last_grids': [None, None, None, None, None],\n",
       " 'last_finishes': [None, None, None, None, None],\n",
       " 'last_standings': [None, None, None, None, None],\n",
       " 'last_grids_team': [],\n",
       " 'last_finishes_team': [],\n",
       " 'last_standings_team': [None, None, None, None, None]}"
      ]
     },
     "metadata": {},
     "output_type": "display_data"
    },
    {
     "data": {
      "text/plain": [
       "{'last_grids': [None, None, None, None, 15],\n",
       " 'last_finishes': [None, None, None, None, 10],\n",
       " 'last_standings': [None, None, None, None, 10],\n",
       " 'last_grids_team': [10.5],\n",
       " 'last_finishes_team': [8.0],\n",
       " 'last_standings_team': [None, None, None, None, 4]}"
      ]
     },
     "metadata": {},
     "output_type": "display_data"
    },
    {
     "data": {
      "text/plain": [
       "{'last_grids': [None, None, None, 15, 12],\n",
       " 'last_finishes': [None, None, None, 10, 11],\n",
       " 'last_standings': [None, None, None, 10, 14],\n",
       " 'last_grids_team': [10.5, 10.0],\n",
       " 'last_finishes_team': [8.0, 11.0],\n",
       " 'last_standings_team': [None, None, None, 4, 6]}"
      ]
     },
     "metadata": {},
     "output_type": "display_data"
    },
    {
     "data": {
      "text/plain": [
       "{'last_grids': [None, None, 15, 12, 14],\n",
       " 'last_finishes': [None, None, 10, 11, 11],\n",
       " 'last_standings': [None, None, 10, 14, 15],\n",
       " 'last_grids_team': [10.5, 10.0, 13.0],\n",
       " 'last_finishes_team': [8.0, 11.0, 9.5],\n",
       " 'last_standings_team': [None, None, 4, 6, 6]}"
      ]
     },
     "metadata": {},
     "output_type": "display_data"
    },
    {
     "data": {
      "text/plain": [
       "{'last_grids': [None, 15, 12, 14, 0],\n",
       " 'last_finishes': [None, 10, 11, 11, 15],\n",
       " 'last_standings': [None, 10, 14, 15, 16],\n",
       " 'last_grids_team': [10.5, 10.0, 13.0, 3.5],\n",
       " 'last_finishes_team': [8.0, 11.0, 9.5, 10.0],\n",
       " 'last_standings_team': [None, 4, 6, 6, 5]}"
      ]
     },
     "metadata": {},
     "output_type": "display_data"
    },
    {
     "data": {
      "text/plain": [
       "{'last_grids': [None, None, None, None, None],\n",
       " 'last_finishes': [None, None, None, None, None],\n",
       " 'last_standings': [None, None, None, None, None],\n",
       " 'last_grids_team': [],\n",
       " 'last_finishes_team': [],\n",
       " 'last_standings_team': [None, None, None, None, None]}"
      ]
     },
     "metadata": {},
     "output_type": "display_data"
    },
    {
     "data": {
      "text/plain": [
       "{'last_grids': [None, None, None, None, 13],\n",
       " 'last_finishes': [None, None, None, None, 14],\n",
       " 'last_standings': [None, None, None, None, 14],\n",
       " 'last_grids_team': [14.0],\n",
       " 'last_finishes_team': [12.0],\n",
       " 'last_standings_team': [None, None, None, None, 8]}"
      ]
     },
     "metadata": {},
     "output_type": "display_data"
    },
    {
     "data": {
      "text/plain": [
       "{'last_grids': [None, None, None, 13, 12],\n",
       " 'last_finishes': [None, None, None, 14, 9],\n",
       " 'last_standings': [None, None, None, 14, 11],\n",
       " 'last_grids_team': [14.0, 13.5],\n",
       " 'last_finishes_team': [12.0, 10.5],\n",
       " 'last_standings_team': [None, None, None, 8, 8]}"
      ]
     },
     "metadata": {},
     "output_type": "display_data"
    },
    {
     "data": {
      "text/plain": [
       "{'last_grids': [None, None, 13, 12, 0],\n",
       " 'last_finishes': [None, None, 14, 9, 10],\n",
       " 'last_standings': [None, None, 14, 11, 13],\n",
       " 'last_grids_team': [14.0, 13.5, 5.5],\n",
       " 'last_finishes_team': [12.0, 10.5, 10.0],\n",
       " 'last_standings_team': [None, None, 8, 8, 9]}"
      ]
     },
     "metadata": {},
     "output_type": "display_data"
    },
    {
     "data": {
      "text/plain": [
       "{'last_grids': [None, 13, 12, 0, 11],\n",
       " 'last_finishes': [None, 14, 9, 10, 11],\n",
       " 'last_standings': [None, 14, 11, 13, 15],\n",
       " 'last_grids_team': [14.0, 13.5, 5.5, 8.5],\n",
       " 'last_finishes_team': [12.0, 10.5, 10.0, 11.0],\n",
       " 'last_standings_team': [None, 8, 8, 9, 9]}"
      ]
     },
     "metadata": {},
     "output_type": "display_data"
    },
    {
     "data": {
      "text/plain": [
       "{'last_grids': [None, None, None, None, None],\n",
       " 'last_finishes': [None, None, None, None, None],\n",
       " 'last_standings': [None, None, None, None, None],\n",
       " 'last_grids_team': [],\n",
       " 'last_finishes_team': [],\n",
       " 'last_standings_team': [None, None, None, None, None]}"
      ]
     },
     "metadata": {},
     "output_type": "display_data"
    },
    {
     "data": {
      "text/plain": [
       "{'last_grids': [None, None, None, None, 4],\n",
       " 'last_finishes': [None, None, None, None, 2],\n",
       " 'last_standings': [None, None, None, None, 2],\n",
       " 'last_grids_team': [7.0],\n",
       " 'last_finishes_team': [2.5],\n",
       " 'last_standings_team': [None, None, None, None, 1]}"
      ]
     },
     "metadata": {},
     "output_type": "display_data"
    },
    {
     "data": {
      "text/plain": [
       "{'last_grids': [None, None, None, 4, 8],\n",
       " 'last_finishes': [None, None, None, 2, 9],\n",
       " 'last_standings': [None, None, None, 2, 5],\n",
       " 'last_grids_team': [7.0, 9.0],\n",
       " 'last_finishes_team': [2.5, 7.5],\n",
       " 'last_standings_team': [None, None, None, 1, 2]}"
      ]
     },
     "metadata": {},
     "output_type": "display_data"
    },
    {
     "data": {
      "text/plain": [
       "{'last_grids': [None, None, 4, 8, 8],\n",
       " 'last_finishes': [None, None, 2, 9, None],\n",
       " 'last_standings': [None, None, 2, 5, 7],\n",
       " 'last_grids_team': [7.0, 9.0, 7.0],\n",
       " 'last_finishes_team': [2.5, 7.5, 17.0],\n",
       " 'last_standings_team': [None, None, 1, 2, 3]}"
      ]
     },
     "metadata": {},
     "output_type": "display_data"
    },
    {
     "data": {
      "text/plain": [
       "{'last_grids': [None, 4, 8, 8, 15],\n",
       " 'last_finishes': [None, 2, 9, None, 13],\n",
       " 'last_standings': [None, 2, 5, 7, 9],\n",
       " 'last_grids_team': [7.0, 9.0, 7.0, 13.5],\n",
       " 'last_finishes_team': [2.5, 7.5, 17.0, 12.0],\n",
       " 'last_standings_team': [None, 1, 2, 3, 5]}"
      ]
     },
     "metadata": {},
     "output_type": "display_data"
    },
    {
     "data": {
      "text/plain": [
       "{'last_grids': [None, None, None, None, None],\n",
       " 'last_finishes': [None, None, None, None, None],\n",
       " 'last_standings': [None, None, None, None, None],\n",
       " 'last_grids_team': [],\n",
       " 'last_finishes_team': [],\n",
       " 'last_standings_team': [None, None, None, None, None]}"
      ]
     },
     "metadata": {},
     "output_type": "display_data"
    },
    {
     "data": {
      "text/plain": [
       "{'last_grids': [None, None, None, None, 24],\n",
       " 'last_finishes': [None, None, None, None, 19],\n",
       " 'last_standings': [None, None, None, None, 26],\n",
       " 'last_grids_team': [23.5],\n",
       " 'last_finishes_team': [18.5],\n",
       " 'last_standings_team': [None, None, None, None, 11]}"
      ]
     },
     "metadata": {},
     "output_type": "display_data"
    },
    {
     "data": {
      "text/plain": [
       "{'last_grids': [None, None, None, 24, 22],\n",
       " 'last_finishes': [None, None, None, 19, 19],\n",
       " 'last_standings': [None, None, None, 26, 26],\n",
       " 'last_grids_team': [23.5, 22.5],\n",
       " 'last_finishes_team': [18.5, 19.0],\n",
       " 'last_standings_team': [None, None, None, 11, 11]}"
      ]
     },
     "metadata": {},
     "output_type": "display_data"
    },
    {
     "data": {
      "text/plain": [
       "{'last_grids': [None, None, 24, 22, 22],\n",
       " 'last_finishes': [None, None, 19, 19, 18],\n",
       " 'last_standings': [None, None, 26, 26, 26],\n",
       " 'last_grids_team': [23.5, 22.5, 21.5],\n",
       " 'last_finishes_team': [18.5, 19.0, 19.0],\n",
       " 'last_standings_team': [None, None, 11, 11, 11]}"
      ]
     },
     "metadata": {},
     "output_type": "display_data"
    },
    {
     "data": {
      "text/plain": [
       "{'last_grids': [None, 24, 22, 22, 23],\n",
       " 'last_finishes': [None, 19, 19, 18, None],\n",
       " 'last_standings': [None, 26, 26, 26, 27],\n",
       " 'last_grids_team': [23.5, 22.5, 21.5, 22.5],\n",
       " 'last_finishes_team': [18.5, 19.0, 19.0, 19.0],\n",
       " 'last_standings_team': [None, 11, 11, 11, 11]}"
      ]
     },
     "metadata": {},
     "output_type": "display_data"
    },
    {
     "data": {
      "text/plain": [
       "{'last_grids': [None, None, None, None, None],\n",
       " 'last_finishes': [None, None, None, None, None],\n",
       " 'last_standings': [None, None, None, None, None],\n",
       " 'last_grids_team': [],\n",
       " 'last_finishes_team': [],\n",
       " 'last_standings_team': [None, None, None, None, None]}"
      ]
     },
     "metadata": {},
     "output_type": "display_data"
    },
    {
     "data": {
      "text/plain": [
       "{'last_grids': [None, None, None, None, 16],\n",
       " 'last_finishes': [None, None, None, None, 12],\n",
       " 'last_standings': [None, None, None, None, 12],\n",
       " 'last_grids_team': [15.5],\n",
       " 'last_finishes_team': [11.0],\n",
       " 'last_standings_team': [None, None, None, None, 7]}"
      ]
     },
     "metadata": {},
     "output_type": "display_data"
    },
    {
     "data": {
      "text/plain": [
       "{'last_grids': [None, None, None, 16, 20],\n",
       " 'last_finishes': [None, None, None, 12, 16],\n",
       " 'last_standings': [None, None, None, 12, 16],\n",
       " 'last_grids_team': [15.5, 18.5],\n",
       " 'last_finishes_team': [11.0, 16.0],\n",
       " 'last_standings_team': [None, None, None, 7, 8]}"
      ]
     },
     "metadata": {},
     "output_type": "display_data"
    },
    {
     "data": {
      "text/plain": [
       "{'last_grids': [None, None, 16, 20, 18],\n",
       " 'last_finishes': [None, None, 12, 16, 16],\n",
       " 'last_standings': [None, None, 12, 16, 19],\n",
       " 'last_grids_team': [15.5, 18.5, 13.0],\n",
       " 'last_finishes_team': [11.0, 16.0, 16.0],\n",
       " 'last_standings_team': [None, None, 7, 8, 10]}"
      ]
     },
     "metadata": {},
     "output_type": "display_data"
    },
    {
     "data": {
      "text/plain": [
       "{'last_grids': [None, 16, 20, 18, 14],\n",
       " 'last_finishes': [None, 12, 16, 16, 16],\n",
       " 'last_standings': [None, 12, 16, 19, 19],\n",
       " 'last_grids_team': [15.5, 18.5, 13.0, 13.0],\n",
       " 'last_finishes_team': [11.0, 16.0, 16.0, 14.0],\n",
       " 'last_standings_team': [None, 7, 8, 10, 10]}"
      ]
     },
     "metadata": {},
     "output_type": "display_data"
    },
    {
     "data": {
      "text/plain": [
       "{'last_grids': [None, None, None, None, None],\n",
       " 'last_finishes': [None, None, None, None, None],\n",
       " 'last_standings': [None, None, None, None, None],\n",
       " 'last_grids_team': [],\n",
       " 'last_finishes_team': [],\n",
       " 'last_standings_team': [None, None, None, None, None]}"
      ]
     },
     "metadata": {},
     "output_type": "display_data"
    },
    {
     "data": {
      "text/plain": [
       "{'last_grids': [None, None, None, None, 13],\n",
       " 'last_finishes': [None, None, None, None, 14],\n",
       " 'last_standings': [None, None, None, None, 14],\n",
       " 'last_grids_team': [12.0],\n",
       " 'last_finishes_team': [12.0],\n",
       " 'last_standings_team': [None, None, None, None, 6]}"
      ]
     },
     "metadata": {},
     "output_type": "display_data"
    },
    {
     "data": {
      "text/plain": [
       "{'last_grids': [None, None, None, 13, 15],\n",
       " 'last_finishes': [None, None, None, 14, None],\n",
       " 'last_standings': [None, None, None, 14, 17],\n",
       " 'last_grids_team': [12.0, 11.5],\n",
       " 'last_finishes_team': [12.0, 8.0],\n",
       " 'last_standings_team': [None, None, None, 6, 7]}"
      ]
     },
     "metadata": {},
     "output_type": "display_data"
    },
    {
     "data": {
      "text/plain": [
       "{'last_grids': [None, None, 13, 15, 5],\n",
       " 'last_finishes': [None, None, 14, None, 10],\n",
       " 'last_standings': [None, None, 14, 17, 14],\n",
       " 'last_grids_team': [12.0, 11.5, 6.0],\n",
       " 'last_finishes_team': [12.0, 8.0, 11.0],\n",
       " 'last_standings_team': [None, None, 6, 7, 7]}"
      ]
     },
     "metadata": {},
     "output_type": "display_data"
    },
    {
     "data": {
      "text/plain": [
       "{'last_grids': [None, 13, 15, 5, 16],\n",
       " 'last_finishes': [None, 14, None, 10, 15],\n",
       " 'last_standings': [None, 14, 17, 14, 15],\n",
       " 'last_grids_team': [12.0, 11.5, 6.0, 13.5],\n",
       " 'last_finishes_team': [12.0, 8.0, 11.0, 13.5],\n",
       " 'last_standings_team': [None, 6, 7, 7, 7]}"
      ]
     },
     "metadata": {},
     "output_type": "display_data"
    },
    {
     "data": {
      "text/plain": [
       "{'last_grids': [None, None, None, None, None],\n",
       " 'last_finishes': [None, None, None, None, None],\n",
       " 'last_standings': [None, None, None, None, None],\n",
       " 'last_grids_team': [],\n",
       " 'last_finishes_team': [],\n",
       " 'last_standings_team': [None, None, None, None, None]}"
      ]
     },
     "metadata": {},
     "output_type": "display_data"
    },
    {
     "data": {
      "text/plain": [
       "{'last_grids': [None, None, None, None, 7],\n",
       " 'last_finishes': [None, None, None, None, 9],\n",
       " 'last_standings': [None, None, None, None, 9],\n",
       " 'last_grids_team': [9.0],\n",
       " 'last_finishes_team': [9.0],\n",
       " 'last_standings_team': [None, None, None, None, 7]}"
      ]
     },
     "metadata": {},
     "output_type": "display_data"
    },
    {
     "data": {
      "text/plain": [
       "{'last_grids': [None, None, None, 7, 15],\n",
       " 'last_finishes': [None, None, None, 9, 8],\n",
       " 'last_standings': [None, None, None, 9, 11],\n",
       " 'last_grids_team': [9.0, 10.5],\n",
       " 'last_finishes_team': [9.0, 7.5],\n",
       " 'last_standings_team': [None, None, None, 7, 5]}"
      ]
     },
     "metadata": {},
     "output_type": "display_data"
    },
    {
     "data": {
      "text/plain": [
       "{'last_grids': [None, None, 7, 15, 14],\n",
       " 'last_finishes': [None, None, 9, 8, 13],\n",
       " 'last_standings': [None, None, 9, 11, 12],\n",
       " 'last_grids_team': [9.0, 10.5, 13.5],\n",
       " 'last_finishes_team': [9.0, 7.5, 15.0],\n",
       " 'last_standings_team': [None, None, 7, 5, 6]}"
      ]
     },
     "metadata": {},
     "output_type": "display_data"
    },
    {
     "data": {
      "text/plain": [
       "{'last_grids': [None, 7, 15, 14, 9],\n",
       " 'last_finishes': [None, 9, 8, 13, None],\n",
       " 'last_standings': [None, 9, 11, 12, 12],\n",
       " 'last_grids_team': [9.0, 10.5, 13.5, 12.0],\n",
       " 'last_finishes_team': [9.0, 7.5, 15.0, nan],\n",
       " 'last_standings_team': [None, 7, 5, 6, 7]}"
      ]
     },
     "metadata": {},
     "output_type": "display_data"
    },
    {
     "data": {
      "text/plain": [
       "{'last_grids': [None, None, None, None, None],\n",
       " 'last_finishes': [None, None, None, None, None],\n",
       " 'last_standings': [None, None, None, None, None],\n",
       " 'last_grids_team': [],\n",
       " 'last_finishes_team': [],\n",
       " 'last_standings_team': [None, None, None, None, None]}"
      ]
     },
     "metadata": {},
     "output_type": "display_data"
    },
    {
     "data": {
      "text/plain": [
       "{'last_grids': [None, None, None, None, 18],\n",
       " 'last_finishes': [None, None, None, None, None],\n",
       " 'last_standings': [None, None, None, None, 20],\n",
       " 'last_grids_team': [14.5],\n",
       " 'last_finishes_team': [17.0],\n",
       " 'last_standings_team': [None, None, None, None, 10]}"
      ]
     },
     "metadata": {},
     "output_type": "display_data"
    },
    {
     "data": {
      "text/plain": [
       "{'last_grids': [None, None, None, 18, 8],\n",
       " 'last_finishes': [None, None, None, None, 15],\n",
       " 'last_standings': [None, None, None, 20, 19],\n",
       " 'last_grids_team': [14.5, 13.5],\n",
       " 'last_finishes_team': [17.0, 16.0],\n",
       " 'last_standings_team': [None, None, None, 10, 10]}"
      ]
     },
     "metadata": {},
     "output_type": "display_data"
    },
    {
     "data": {
      "text/plain": [
       "{'last_grids': [None, None, 18, 8, 16],\n",
       " 'last_finishes': [None, None, None, 15, 8],\n",
       " 'last_standings': [None, None, 20, 19, 13],\n",
       " 'last_grids_team': [14.5, 13.5, 14.5],\n",
       " 'last_finishes_team': [17.0, 16.0, 7.0],\n",
       " 'last_standings_team': [None, None, 10, 10, 5]}"
      ]
     },
     "metadata": {},
     "output_type": "display_data"
    },
    {
     "data": {
      "text/plain": [
       "{'last_grids': [None, 18, 8, 16, 10],\n",
       " 'last_finishes': [None, None, 15, 8, 11],\n",
       " 'last_standings': [None, 20, 19, 13, 11],\n",
       " 'last_grids_team': [14.5, 13.5, 14.5, 8.5],\n",
       " 'last_finishes_team': [17.0, 16.0, 7.0, 10.0],\n",
       " 'last_standings_team': [None, 10, 10, 5, 5]}"
      ]
     },
     "metadata": {},
     "output_type": "display_data"
    }
   ],
   "source": [
    "# Todos os pilotos que participaram de uma determinada corrida\n",
    "drivers_id_this_race = result_df.xs(1110, level='raceId').index.values\n",
    "display(drivers_id_this_race)\n",
    "# Para cada piloto, computar todos os raceIds que aquele piloto participou\n",
    "for driver_id in drivers_id_this_race:\n",
    "    race_ids_this_driver = result_df.xs(driver_id, level='driverId').index.values\n",
    "    for race_id in race_ids_this_driver[0:5]:\n",
    "        display(query_info_for_race(race_id, driver_id))"
   ]
  }
 ],
 "metadata": {
  "kernelspec": {
   "display_name": ".env",
   "language": "python",
   "name": "python3"
  },
  "language_info": {
   "codemirror_mode": {
    "name": "ipython",
    "version": 3
   },
   "file_extension": ".py",
   "mimetype": "text/x-python",
   "name": "python",
   "nbconvert_exporter": "python",
   "pygments_lexer": "ipython3",
   "version": "3.12.2"
  }
 },
 "nbformat": 4,
 "nbformat_minor": 2
}
