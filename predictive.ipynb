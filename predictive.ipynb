{
 "cells": [
  {
   "cell_type": "code",
   "execution_count": null,
   "metadata": {
    "metadata": {}
   },
   "outputs": [],
   "source": [
    "import pandas as pd"
   ]
  },
  {
   "cell_type": "code",
   "execution_count": null,
   "metadata": {},
   "outputs": [],
   "source": [
    "# Constantes\n",
    "PREVIOUS_RESULTS_USED = 5"
   ]
  },
  {
   "cell_type": "code",
   "execution_count": null,
   "metadata": {
    "metadata": {}
   },
   "outputs": [],
   "source": [
    "raw_dfs = {\n",
    "    'races': pd.read_parquet('.data_parquet/races.parquet'),\n",
    "    'results': pd.read_parquet('.data_parquet/results.parquet'),\n",
    "    'driver_standings': pd.read_parquet('.data_parquet/driver_standings.parquet'),\n",
    "    'constructor_standings': pd.read_parquet('.data_parquet/constructor_standings.parquet'),\n",
    "    'qualifying': pd.read_parquet('.data_parquet/qualifying.parquet')\n",
    "}\n",
    "display(raw_dfs['races'])"
   ]
  },
  {
   "cell_type": "code",
   "execution_count": null,
   "metadata": {
    "metadata": {}
   },
   "outputs": [],
   "source": [
    "races_by_number = raw_dfs['races'][['year', 'round']].sort_values(['year', 'round'])\n",
    "races_by_number['number'] = range(1, len(races_by_number) + 1)\n",
    "races_number = races_by_number[['number']]\n",
    "races_df_with_number = raw_dfs['races'].join(races_by_number['number'], on='raceId')\n",
    "races_df_with_number = races_df_with_number.set_index('number', append=True)\n",
    "display(races_df_with_number)"
   ]
  },
  {
   "cell_type": "code",
   "execution_count": null,
   "metadata": {},
   "outputs": [],
   "source": [
    "# Exemplo de query a partir de raceId\n",
    "display(races_df_with_number.xs(1, level='raceId'))\n",
    "# Exemplo de query a partir de number\n",
    "display(races_df_with_number.xs(1, level='number'))"
   ]
  },
  {
   "cell_type": "code",
   "execution_count": null,
   "metadata": {},
   "outputs": [],
   "source": [
    "races_df_with_number.index.get_level_values(0)"
   ]
  },
  {
   "cell_type": "code",
   "execution_count": null,
   "metadata": {},
   "outputs": [],
   "source": [
    "raw_dfs['results']"
   ]
  },
  {
   "cell_type": "code",
   "execution_count": null,
   "metadata": {},
   "outputs": [],
   "source": [
    "raw_dfs[\"results\"].loc[1000]"
   ]
  },
  {
   "cell_type": "code",
   "execution_count": null,
   "metadata": {},
   "outputs": [],
   "source": [
    "import numpy as np\n",
    "\n",
    "# Parâmetros pensados em um primeiro momento\n",
    "# - Últimas posições de largada do piloto\n",
    "# - Últimas posições de chegada do piloto\n",
    "# - Histórico de classificação do piloto\n",
    "# - Posição \"média\" de largada da equipe nas últimas corridas\n",
    "# - Posição \"média\" de chegada da equipe nas últimas corridas\n",
    "# - Histórico de classificação da equipe\n",
    "result_df = raw_dfs[\"results\"]\n",
    "driver_standings_df = raw_dfs[\"driver_standings\"]\n",
    "\n",
    "def query_info_for_race(raceId: int, driverId: int):\n",
    "    race_not_found = raceId not in races_df_with_number.index.get_level_values(0)\n",
    "    if race_not_found:\n",
    "        raise ValueError(\"Race is not present in the dataset\")\n",
    "    race_row = races_df_with_number.xs(raceId, level='raceId')\n",
    "    race_number = race_row.index[0]\n",
    "    last_n_races = range(race_number - PREVIOUS_RESULTS_USED, race_number)\n",
    "    last_n_racesId = races_df_with_number.loc[(\n",
    "        slice(None),\n",
    "        last_n_races\n",
    "    ), :].index.get_level_values(0)\n",
    "    last_grids = []\n",
    "    last_finishes = []\n",
    "    last_standings = []\n",
    "    last_grids_team = []\n",
    "    last_finishes_team = []\n",
    "    last_standings_team = []\n",
    "    for prev_raceId in last_n_racesId:\n",
    "        prev_race_results = result_df.loc[prev_raceId]\n",
    "        drivers_in_race_driverId = prev_race_results.index\n",
    "        did_not_result = driverId not in drivers_in_race_driverId\n",
    "        if did_not_result:\n",
    "            last_grids.append(None)\n",
    "            last_finishes.append(None)\n",
    "        else:\n",
    "            this_driver_result = prev_race_results.loc[driverId]\n",
    "            last_grids.append(this_driver_result['grid'])\n",
    "            prev_race_position = this_driver_result['position']\n",
    "            last_finishes.append(None if np.isnan(prev_race_position) else int(prev_race_position))\n",
    "        prev_race_standings = driver_standings_df.loc[prev_raceId]\n",
    "        did_not_have_standing = driverId not in prev_race_standings.index\n",
    "        if did_not_have_standing:\n",
    "            last_standings.append(None)\n",
    "        else:\n",
    "            last_standings.append(\n",
    "                prev_race_standings.loc[driverId][\"position\"]\n",
    "            )\n",
    "    display(last_grids)\n",
    "    display(last_finishes)\n",
    "    display(last_standings)\n",
    "\n",
    "\n",
    "query_info_for_race(10, 1)"
   ]
  }
 ],
 "metadata": {
  "kernelspec": {
   "display_name": ".env",
   "language": "python",
   "name": "python3"
  },
  "language_info": {
   "codemirror_mode": {
    "name": "ipython",
    "version": 3
   },
   "file_extension": ".py",
   "mimetype": "text/x-python",
   "name": "python",
   "nbconvert_exporter": "python",
   "pygments_lexer": "ipython3",
   "version": "3.12.2"
  }
 },
 "nbformat": 4,
 "nbformat_minor": 2
}
