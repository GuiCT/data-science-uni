{
 "cells": [
  {
   "cell_type": "code",
   "execution_count": null,
   "metadata": {
    "metadata": {}
   },
   "outputs": [],
   "source": [
    "import pandas as pd"
   ]
  },
  {
   "cell_type": "code",
   "execution_count": null,
   "metadata": {},
   "outputs": [],
   "source": [
    "# Constantes\n",
    "PREVIOUS_RESULTS_USED = 5"
   ]
  },
  {
   "cell_type": "code",
   "execution_count": null,
   "metadata": {
    "metadata": {}
   },
   "outputs": [],
   "source": [
    "raw_dfs = {\n",
    "    'races': pd.read_parquet('.data_parquet/races.parquet'),\n",
    "    'results': pd.read_parquet('.data_parquet/results.parquet'),\n",
    "    'driver_standings': pd.read_parquet('.data_parquet/driver_standings.parquet'),\n",
    "    'constructor_standings': pd.read_parquet('.data_parquet/constructor_standings.parquet'),\n",
    "    'qualifying': pd.read_parquet('.data_parquet/qualifying.parquet')\n",
    "}\n",
    "display(raw_dfs['races'])"
   ]
  },
  {
   "cell_type": "code",
   "execution_count": null,
   "metadata": {
    "metadata": {}
   },
   "outputs": [],
   "source": [
    "races_by_number = raw_dfs['races'][['year', 'round']].sort_values(['year', 'round'])\n",
    "races_by_number['number'] = range(1, len(races_by_number) + 1)\n",
    "races_number = races_by_number[['number']]\n",
    "races_df_with_number = raw_dfs['races'].join(races_by_number['number'], on='raceId')\n",
    "display(races_df_with_number)"
   ]
  },
  {
   "cell_type": "code",
   "execution_count": null,
   "metadata": {},
   "outputs": [],
   "source": [
    "# Parâmetros pensados\n",
    "# - Últimas posições de largada do piloto\n",
    "# - Últimas posições de chegada do piloto\n",
    "# - Histórico de classificação do piloto\n",
    "# - Posição \"média\" de largada da equipe nas últimas corridas\n",
    "# - Posição \"média\" de chegada da equipe nas últimas corridas\n",
    "# - Histórico de classificação da equipe\n",
    "# Agrupando todas as informações necessárias no df de resultados\n",
    "results_df = raw_dfs['results']\n",
    "joined_driver_standings_df = (\n",
    "    raw_dfs['driver_standings'][['position']].rename(\n",
    "        columns={'position': 'driver_standings_position'}\n",
    "    )\n",
    ")\n",
    "joined_constructor_standings_df = (\n",
    "    raw_dfs['constructor_standings'][['position']].rename(\n",
    "        columns={'position': 'constructor_standings_position'}\n",
    "    )\n",
    ")\n",
    "joined_race_df = (\n",
    "    races_df_with_number[['number', 'year']]\n",
    ")\n",
    "results_df = results_df.join(joined_driver_standings_df)\n",
    "results_df = results_df.join(joined_constructor_standings_df, on=['raceId', 'constructorId'])\n",
    "results_df = results_df.join(joined_race_df)\n",
    "results_df = results_df.reset_index()\n",
    "results_df = results_df.set_index(['driverId', 'number'])\n",
    "results_df['driverId'] = results_df.index.get_level_values(0)\n",
    "results_df = results_df.sort_index()\n",
    "results_df['driverId_shifted'] = results_df.groupby(level=0)['driverId'].shift(PREVIOUS_RESULTS_USED)\n",
    "results_df['driverId_equals'] = results_df['driverId'] == results_df['driverId_shifted']\n",
    "results_df['year_shifted'] = results_df['year'].shift(PREVIOUS_RESULTS_USED)\n",
    "results_df['year_equals'] = results_df['year'] == results_df['year_shifted']\n",
    "display(results_df)"
   ]
  },
  {
   "cell_type": "code",
   "execution_count": null,
   "metadata": {},
   "outputs": [],
   "source": [
    "results_df[results_df['driverId_equals'] & results_df['year_equals']]"
   ]
  },
  {
   "cell_type": "code",
   "execution_count": null,
   "metadata": {},
   "outputs": [],
   "source": [
    "tmp_df = raw_dfs['results']\n",
    "tmp_df = tmp_df.reset_index()\n",
    "tmp_df = tmp_df.set_index(['raceId', 'constructorId']).sort_index()\n",
    "tmp_df = (\n",
    "    tmp_df\n",
    "    .groupby(['raceId', 'constructorId'])\n",
    "    [['grid', 'position']]\n",
    "    .mean()\n",
    ")\n",
    "tmp_df = tmp_df.rename(columns={\n",
    "    'grid': 'equivalent_grid_constructor',\n",
    "    'position': 'equivalent_position_constructor'\n",
    "})\n",
    "tmp_df"
   ]
  },
  {
   "cell_type": "code",
   "execution_count": null,
   "metadata": {},
   "outputs": [],
   "source": [
    "results_df = results_df.join(tmp_df, on=['raceId', 'constructorId'])\n",
    "results_df"
   ]
  },
  {
   "cell_type": "code",
   "execution_count": null,
   "metadata": {},
   "outputs": [],
   "source": [
    "tmp2_df = (\n",
    "    results_df[[\n",
    "        'equivalent_grid_constructor',\n",
    "        'equivalent_position_constructor',\n",
    "        'position',\n",
    "        'grid'\n",
    "    ]]\n",
    "    .rolling(PREVIOUS_RESULTS_USED, min_periods=2)\n",
    "    .agg(['mean', 'std'])\n",
    "    .rename(columns={\n",
    "        'position': 'position_driver',\n",
    "        'grid': 'grid_driver'\n",
    "    })\n",
    ")\n",
    "tmp2_df.columns = ['_'.join(col).strip() for col in tmp2_df.columns.values]\n",
    "tmp2_df"
   ]
  },
  {
   "cell_type": "code",
   "execution_count": null,
   "metadata": {},
   "outputs": [],
   "source": [
    "tmp2_df.xs(1, level='driverId').head(20)"
   ]
  },
  {
   "cell_type": "code",
   "execution_count": null,
   "metadata": {},
   "outputs": [],
   "source": [
    "results_df = results_df.join(tmp2_df)\n",
    "results_df"
   ]
  },
  {
   "cell_type": "code",
   "execution_count": null,
   "metadata": {},
   "outputs": [],
   "source": [
    "results_df.head(PREVIOUS_RESULTS_USED + 1)"
   ]
  },
  {
   "cell_type": "code",
   "execution_count": null,
   "metadata": {},
   "outputs": [],
   "source": [
    "results_df.columns"
   ]
  },
  {
   "cell_type": "code",
   "execution_count": null,
   "metadata": {},
   "outputs": [],
   "source": [
    "tt_df = results_df.drop(columns=[\n",
    "    'raceId', 'constructorId', 'points', 'laps',\n",
    "    'milliseconds', 'fastestLap', 'rank', 'fastestLapTime',\n",
    "    'fastestLapSpeed', 'statusId', 'year', 'driverId',\n",
    "    'driverId_shifted', 'year_shifted', 'equivalent_grid_constructor',\n",
    "    'equivalent_position_constructor', 'fastestLapMillis'\n",
    "])\n",
    "x_columns = tt_df.columns.difference(['position'])\n",
    "y_columns = ['position']\n",
    "columns_in_order = list(x_columns) + y_columns\n",
    "tt_df = tt_df[columns_in_order]\n",
    "tt_df.shape"
   ]
  },
  {
   "cell_type": "code",
   "execution_count": null,
   "metadata": {},
   "outputs": [],
   "source": [
    "tt_df[tt_df['driverId_equals'] & tt_df['year_equals']]"
   ]
  },
  {
   "cell_type": "code",
   "execution_count": null,
   "metadata": {},
   "outputs": [],
   "source": [
    "tt_df.info()"
   ]
  },
  {
   "cell_type": "code",
   "execution_count": null,
   "metadata": {},
   "outputs": [],
   "source": [
    "tt_df.dropna().shape"
   ]
  },
  {
   "cell_type": "code",
   "execution_count": null,
   "metadata": {},
   "outputs": [],
   "source": [
    "tt_df[tt_df['driverId_equals'] & tt_df['year_equals']].dropna().shape"
   ]
  },
  {
   "cell_type": "code",
   "execution_count": null,
   "metadata": {},
   "outputs": [],
   "source": [
    "from sklearn.tree import DecisionTreeRegressor\n",
    "\n",
    "tt_df = tt_df[tt_df['driverId_equals'] & tt_df['year_equals']].dropna()\n",
    "tt_df = tt_df.drop(columns=['driverId_equals', 'year_equals'])\n",
    "tt_size = tt_df.shape[0]\n",
    "train_size = int(tt_size * 0.8)\n",
    "train_df = tt_df.head(train_size)\n",
    "test_df = tt_df.tail(tt_size - train_size)\n",
    "\n",
    "x_columns = tt_df.columns.difference(['position'])\n",
    "y_columns = ['position']\n",
    "reg = DecisionTreeRegressor()\n",
    "reg.fit(train_df[x_columns], train_df[y_columns])"
   ]
  },
  {
   "cell_type": "code",
   "execution_count": null,
   "metadata": {},
   "outputs": [],
   "source": [
    "test_df['predicted_position'] = reg.predict(test_df[x_columns])\n",
    "test_df"
   ]
  }
 ],
 "metadata": {
  "kernelspec": {
   "display_name": ".env",
   "language": "python",
   "name": "python3"
  },
  "language_info": {
   "codemirror_mode": {
    "name": "ipython",
    "version": 3
   },
   "file_extension": ".py",
   "mimetype": "text/x-python",
   "name": "python",
   "nbconvert_exporter": "python",
   "pygments_lexer": "ipython3",
   "version": "3.12.2"
  }
 },
 "nbformat": 4,
 "nbformat_minor": 2
}
