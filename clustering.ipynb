{
 "cells": [
  {
   "cell_type": "code",
   "execution_count": null,
   "metadata": {},
   "outputs": [],
   "source": [
    "import pandas as pd\n",
    "import numpy as np"
   ]
  },
  {
   "cell_type": "code",
   "execution_count": null,
   "metadata": {},
   "outputs": [],
   "source": [
    "raw_dfs: dict[str, pd.DataFrame] = dict()\n",
    "raw_dfs[\"results\"] = pd.read_parquet(\".data_parquet/results.parquet\")\n",
    "raw_dfs[\"pit_stops\"] = pd.read_parquet(\".data_parquet/pit_stops.parquet\")"
   ]
  },
  {
   "cell_type": "code",
   "execution_count": null,
   "metadata": {},
   "outputs": [],
   "source": [
    "raw_dfs: dict[str, pd.DataFrame] = dict()\n",
    "raw_dfs[\"results\"] = pd.read_parquet(\".data_parquet/results.parquet\")\n",
    "raw_dfs[\"pit_stops\"] = pd.read_parquet(\".data_parquet/pit_stops.parquet\")\n",
    "raw_dfs[\"races\"] = pd.read_parquet(\".data_parquet/races.parquet\")\n",
    "races_after_1970 = raw_dfs[\"races\"].query(\"year >= 1970\").index\n",
    "winners_df = raw_dfs[\"results\"].query(\"position == 1.0 & raceId in @races_after_1970\", engine=\"python\")\n",
    "display(\"Winners dataframe\", winners_df)\n",
    "# Data for clustering wins:\n",
    "# - Difference between the first place to second place and third place\n",
    "# - Amount of pit stops for winning driver\n",
    "def calculate_cluster_info(row):\n",
    "    raceId = row.name[0]\n",
    "    driverId = row.name[1]\n",
    "    try:\n",
    "        # Get millis for second and third place\n",
    "        second_millis = raw_dfs[\"results\"].query(\"raceId == @raceId & position == 2.0\")[\"milliseconds\"].values[0]\n",
    "        difference_second = second_millis - row[\"milliseconds\"]\n",
    "        row[\"difference_second\"] = difference_second\n",
    "    except:\n",
    "        row[\"difference_second\"] = np.NAN\n",
    "    try:\n",
    "        third_millis = raw_dfs[\"results\"].query(\"raceId == @raceId & position == 3.0\")[\"milliseconds\"].values[0]\n",
    "        difference_third = third_millis - row[\"milliseconds\"]\n",
    "        row[\"difference_third\"] = difference_third\n",
    "    except:\n",
    "        row[\"difference_third\"] = np.NAN\n",
    "    try:\n",
    "        if raceId not in raw_dfs[\"pit_stops\"].index.levels[0]:\n",
    "            raise ValueError(\"No pit stops recorded for this race\")\n",
    "        total_pit_stops = raw_dfs[\"pit_stops\"].query(\"raceId == @raceId & driverId == @driverId\").index.size\n",
    "        row[\"total_pit_stops\"] = total_pit_stops\n",
    "    except:\n",
    "        row[\"total_pit_stops\"] = np.NAN\n",
    "    return row\n",
    "\n",
    "winner_df = winners_df.apply(calculate_cluster_info, axis=1)\n",
    "winner_df"
   ]
  },
  {
   "cell_type": "code",
   "execution_count": null,
   "metadata": {},
   "outputs": [],
   "source": [
    "from sklearn.cluster import KMeans\n",
    "from sklearn.decomposition import PCA\n",
    "from sklearn.preprocessing import StandardScaler\n",
    "import matplotlib.pyplot as plt\n",
    "\n",
    "df_to_pca = winner_df[[\"grid\", \"milliseconds\", \"fastestLapSpeed\", \"difference_second\", \"difference_third\", \"total_pit_stops\"]]\n",
    "df_to_pca = df_to_pca.dropna()\n",
    "scaler = StandardScaler()\n",
    "scaler.fit(df_to_pca)\n",
    "df_to_pca_scaled = scaler.transform(df_to_pca)\n",
    "pca = PCA(n_components=2)\n",
    "pca_to_df = pca.fit_transform(df_to_pca_scaled)\n",
    "pca_df = pd.DataFrame(pca_to_df, columns=[\"x\", \"y\"])\n",
    "pca_df.index = df_to_pca.index\n",
    "kmeans = KMeans(n_clusters=3)\n",
    "kmeans.fit(pca_df)\n",
    "pca_df[\"cluster\"] = kmeans.labels_\n",
    "\n",
    "fig, ax = plt.subplots(figsize=(16,9))\n",
    "ax.scatter(pca_df[\"x\"], pca_df[\"y\"], c=pca_df[\"cluster\"], cmap=\"viridis\")\n",
    "for i, txt in enumerate(pca_df.index):\n",
    "    ax.annotate(txt, (pca_df[\"x\"].iloc[i], pca_df[\"y\"].iloc[i]))\n",
    "plt.show()\n"
   ]
  },
  {
   "cell_type": "code",
   "execution_count": null,
   "metadata": {},
   "outputs": [],
   "source": [
    "wtf_races = [847, 1066, 1104, 1015, 994, 1047, 960, 900, 1092]\n",
    "raw_dfs[\"races\"] = pd.read_parquet(\".data_parquet/races.parquet\")\n",
    "display(raw_dfs[\"races\"].loc[wtf_races])\n",
    "display(winner_df.loc[(wtf_races, slice(None))])"
   ]
  }
 ],
 "metadata": {
  "kernelspec": {
   "display_name": ".env",
   "language": "python",
   "name": "python3"
  },
  "language_info": {
   "codemirror_mode": {
    "name": "ipython",
    "version": 3
   },
   "file_extension": ".py",
   "mimetype": "text/x-python",
   "name": "python",
   "nbconvert_exporter": "python",
   "pygments_lexer": "ipython3",
   "version": "3.11.6"
  }
 },
 "nbformat": 4,
 "nbformat_minor": 2
}
