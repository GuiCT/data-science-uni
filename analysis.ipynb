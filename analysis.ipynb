{
 "cells": [
  {
   "cell_type": "markdown",
   "metadata": {},
   "source": [
    "# Importações e tratamentos\n",
    "\n",
    "Independente de qual seção executar, execute essa primeiro."
   ]
  },
  {
   "cell_type": "code",
   "execution_count": 2,
   "metadata": {},
   "outputs": [],
   "source": [
    "import matplotlib as mpl\n",
    "import matplotlib.pyplot as plt\n",
    "import numpy as np\n",
    "import pandas as pd\n",
    "import seaborn as sns"
   ]
  },
  {
   "cell_type": "code",
   "execution_count": 3,
   "metadata": {},
   "outputs": [],
   "source": [
    "mpl.rcParams['figure.dpi'] = 300\n",
    "\n",
    "sns.set_palette(\"husl\")\n",
    "sns.set_style(\"whitegrid\")"
   ]
  },
  {
   "cell_type": "markdown",
   "metadata": {},
   "source": [
    "Carregando CSVs e gerando arquivos parquet"
   ]
  },
  {
   "cell_type": "code",
   "execution_count": 4,
   "metadata": {},
   "outputs": [],
   "source": [
    "raw_dfs: dict[str, pd.DataFrame] = dict()"
   ]
  },
  {
   "cell_type": "code",
   "execution_count": 5,
   "metadata": {},
   "outputs": [],
   "source": [
    "circuits_df_raw = pd.read_csv(\n",
    "    \".data/circuits.csv\",\n",
    "    index_col=\"circuitId\"\n",
    ")\n",
    "circuits_df_raw[\"alt\"] = pd.to_numeric(circuits_df_raw[\"alt\"], errors=\"coerce\")\n",
    "circuits_df_raw.to_parquet(\".data_parquet/circuits.parquet\")\n",
    "raw_dfs[\"circuits\"] = circuits_df_raw\n",
    "del circuits_df_raw"
   ]
  },
  {
   "cell_type": "code",
   "execution_count": 6,
   "metadata": {},
   "outputs": [],
   "source": [
    "constructor_results_df_raw = pd.read_csv(\n",
    "    \".data/constructor_results.csv\",\n",
    "    index_col=\"constructorResultsId\"\n",
    ")\n",
    "constructor_results_df_raw.to_parquet(\".data_parquet/constructor_results.parquet\")\n",
    "raw_dfs[\"constructor_results\"] = constructor_results_df_raw\n",
    "del constructor_results_df_raw"
   ]
  },
  {
   "cell_type": "code",
   "execution_count": 7,
   "metadata": {},
   "outputs": [],
   "source": [
    "constructor_standings_df_raw = pd.read_csv(\n",
    "    \".data/constructor_standings.csv\",\n",
    "    index_col=\"constructorStandingsId\"\n",
    ")\n",
    "constructor_standings_df_raw.to_parquet(\".data_parquet/constructor_standings.parquet\")\n",
    "raw_dfs[\"constructor_standings\"] = constructor_standings_df_raw\n",
    "del constructor_standings_df_raw"
   ]
  },
  {
   "cell_type": "code",
   "execution_count": 8,
   "metadata": {},
   "outputs": [],
   "source": [
    "constructors_df_raw = pd.read_csv(\n",
    "    \".data/constructors.csv\",\n",
    "    index_col=\"constructorId\"\n",
    ")\n",
    "constructors_df_raw.to_parquet(\".data_parquet/constructors.parquet\")\n",
    "raw_dfs[\"constructors\"] = constructors_df_raw\n",
    "del constructors_df_raw"
   ]
  },
  {
   "cell_type": "code",
   "execution_count": 9,
   "metadata": {},
   "outputs": [],
   "source": [
    "driver_standings_df_raw = pd.read_csv(\n",
    "    \".data/driver_standings.csv\",\n",
    "    index_col=\"driverStandingsId\"\n",
    ")\n",
    "driver_standings_df_raw.to_parquet(\".data_parquet/driver_standings.parquet\")\n",
    "raw_dfs[\"driver_standings\"] = driver_standings_df_raw\n",
    "del driver_standings_df_raw"
   ]
  },
  {
   "cell_type": "code",
   "execution_count": 10,
   "metadata": {},
   "outputs": [],
   "source": [
    "drivers_df_raw = pd.read_csv(\n",
    "    \".data/drivers.csv\",\n",
    "    index_col=\"driverId\"\n",
    ")\n",
    "drivers_df_raw[\"number\"] = pd.to_numeric(drivers_df_raw[\"number\"], errors=\"coerce\")\n",
    "drivers_df_raw[\"dob\"] = pd.to_datetime(drivers_df_raw[\"dob\"], errors=\"coerce\")\n",
    "drivers_df_raw.to_parquet(\".data_parquet/drivers.parquet\")\n",
    "raw_dfs[\"drivers\"] = drivers_df_raw\n",
    "del drivers_df_raw"
   ]
  },
  {
   "cell_type": "code",
   "execution_count": 11,
   "metadata": {},
   "outputs": [],
   "source": [
    "lap_times_df_raw = pd.read_csv(\n",
    "    \".data/lap_times.csv\",\n",
    "    index_col=[\"raceId\", \"driverId\", \"lap\"]\n",
    ")\n",
    "# Redundant data\n",
    "lap_times_df_raw = lap_times_df_raw.drop(columns=[\"time\"])\n",
    "lap_times_df_raw.to_parquet(\".data_parquet/lap_times.parquet\")\n",
    "raw_dfs[\"lap_times\"] = lap_times_df_raw\n",
    "del lap_times_df_raw"
   ]
  },
  {
   "cell_type": "code",
   "execution_count": 19,
   "metadata": {},
   "outputs": [],
   "source": [
    "races_df_raw = pd.read_csv(\n",
    "    \".data/races.csv\",\n",
    "    index_col=\"raceId\"\n",
    ")\n",
    "races_df_raw[\"datetime\"] = pd.to_datetime(races_df_raw[\"date\"] + \" \" + races_df_raw[\"time\"], errors=\"coerce\")\n",
    "races_df_raw = races_df_raw.drop(columns=[\"date\", \"time\"])\n",
    "races_df_raw.to_parquet(\".data_parquet/races.parquet\")\n",
    "raw_dfs[\"races\"] = races_df_raw\n",
    "del races_df_raw"
   ]
  },
  {
   "cell_type": "code",
   "execution_count": 52,
   "metadata": {},
   "outputs": [
    {
     "data": {
      "text/html": [
       "<div>\n",
       "<style scoped>\n",
       "    .dataframe tbody tr th:only-of-type {\n",
       "        vertical-align: middle;\n",
       "    }\n",
       "\n",
       "    .dataframe tbody tr th {\n",
       "        vertical-align: top;\n",
       "    }\n",
       "\n",
       "    .dataframe thead th {\n",
       "        text-align: right;\n",
       "    }\n",
       "</style>\n",
       "<table border=\"1\" class=\"dataframe\">\n",
       "  <thead>\n",
       "    <tr style=\"text-align: right;\">\n",
       "      <th></th>\n",
       "      <th></th>\n",
       "      <th></th>\n",
       "      <th>lap</th>\n",
       "      <th>time</th>\n",
       "      <th>milliseconds</th>\n",
       "    </tr>\n",
       "    <tr>\n",
       "      <th>raceId</th>\n",
       "      <th>driverId</th>\n",
       "      <th>stop</th>\n",
       "      <th></th>\n",
       "      <th></th>\n",
       "      <th></th>\n",
       "    </tr>\n",
       "  </thead>\n",
       "  <tbody>\n",
       "    <tr>\n",
       "      <th rowspan=\"5\" valign=\"top\">841</th>\n",
       "      <th>153</th>\n",
       "      <th>1</th>\n",
       "      <td>1</td>\n",
       "      <td>17:05:23</td>\n",
       "      <td>26898</td>\n",
       "    </tr>\n",
       "    <tr>\n",
       "      <th>30</th>\n",
       "      <th>1</th>\n",
       "      <td>1</td>\n",
       "      <td>17:05:52</td>\n",
       "      <td>25021</td>\n",
       "    </tr>\n",
       "    <tr>\n",
       "      <th>17</th>\n",
       "      <th>1</th>\n",
       "      <td>11</td>\n",
       "      <td>17:20:48</td>\n",
       "      <td>23426</td>\n",
       "    </tr>\n",
       "    <tr>\n",
       "      <th>4</th>\n",
       "      <th>1</th>\n",
       "      <td>12</td>\n",
       "      <td>17:22:34</td>\n",
       "      <td>23251</td>\n",
       "    </tr>\n",
       "    <tr>\n",
       "      <th>13</th>\n",
       "      <th>1</th>\n",
       "      <td>13</td>\n",
       "      <td>17:24:10</td>\n",
       "      <td>23842</td>\n",
       "    </tr>\n",
       "    <tr>\n",
       "      <th>...</th>\n",
       "      <th>...</th>\n",
       "      <th>...</th>\n",
       "      <td>...</td>\n",
       "      <td>...</td>\n",
       "      <td>...</td>\n",
       "    </tr>\n",
       "    <tr>\n",
       "      <th rowspan=\"5\" valign=\"top\">1110</th>\n",
       "      <th>4</th>\n",
       "      <th>2</th>\n",
       "      <td>29</td>\n",
       "      <td>15:59:01</td>\n",
       "      <td>23798</td>\n",
       "    </tr>\n",
       "    <tr>\n",
       "      <th>830</th>\n",
       "      <th>2</th>\n",
       "      <td>30</td>\n",
       "      <td>16:00:16</td>\n",
       "      <td>23012</td>\n",
       "    </tr>\n",
       "    <tr>\n",
       "      <th>848</th>\n",
       "      <th>3</th>\n",
       "      <td>33</td>\n",
       "      <td>16:07:06</td>\n",
       "      <td>23529</td>\n",
       "    </tr>\n",
       "    <tr>\n",
       "      <th>858</th>\n",
       "      <th>3</th>\n",
       "      <td>34</td>\n",
       "      <td>16:09:09</td>\n",
       "      <td>23109</td>\n",
       "    </tr>\n",
       "    <tr>\n",
       "      <th>1</th>\n",
       "      <th>3</th>\n",
       "      <td>42</td>\n",
       "      <td>16:23:05</td>\n",
       "      <td>23156</td>\n",
       "    </tr>\n",
       "  </tbody>\n",
       "</table>\n",
       "<p>10089 rows × 3 columns</p>\n",
       "</div>"
      ],
      "text/plain": [
       "                      lap      time  milliseconds\n",
       "raceId driverId stop                             \n",
       "841    153      1       1  17:05:23         26898\n",
       "       30       1       1  17:05:52         25021\n",
       "       17       1      11  17:20:48         23426\n",
       "       4        1      12  17:22:34         23251\n",
       "       13       1      13  17:24:10         23842\n",
       "...                   ...       ...           ...\n",
       "1110   4        2      29  15:59:01         23798\n",
       "       830      2      30  16:00:16         23012\n",
       "       848      3      33  16:07:06         23529\n",
       "       858      3      34  16:09:09         23109\n",
       "       1        3      42  16:23:05         23156\n",
       "\n",
       "[10089 rows x 3 columns]"
      ]
     },
     "execution_count": 52,
     "metadata": {},
     "output_type": "execute_result"
    }
   ],
   "source": [
    "pit_stops_df_raw = pd.read_csv(\n",
    "    \".data/pit_stops.csv\",\n",
    "    index_col=[\"raceId\", \"driverId\", \"stop\"]\n",
    ")\n",
    "pit_stops_df_raw = pit_stops_df_raw.drop(columns=[\"duration\"])\n",
    "pit_stops_df_raw.loc"
   ]
  },
  {
   "cell_type": "markdown",
   "metadata": {},
   "source": [
    "# Visualizações"
   ]
  },
  {
   "cell_type": "markdown",
   "metadata": {},
   "source": [
    "## Construtores"
   ]
  },
  {
   "cell_type": "markdown",
   "metadata": {},
   "source": [
    "### Tratamento do DataFrame\n",
    "\n",
    "Ignorando valores não-utilizados."
   ]
  },
  {
   "cell_type": "code",
   "execution_count": null,
   "metadata": {},
   "outputs": [],
   "source": [
    "constructors_df_raw = pd.read_csv(\".data/constructors.csv\")\n",
    "constructors_df_raw"
   ]
  },
  {
   "cell_type": "code",
   "execution_count": null,
   "metadata": {},
   "outputs": [],
   "source": [
    "constructors_df = constructors_df_raw[[\n",
    "    \"constructorId\",\n",
    "    \"name\",\n",
    "    \"nationality\"\n",
    "]]\n",
    "constructors_df = constructors_df.set_index(\"constructorId\")\n",
    "constructors_df"
   ]
  },
  {
   "cell_type": "markdown",
   "metadata": {},
   "source": [
    "### Distribuição de nacionalidades"
   ]
  },
  {
   "cell_type": "code",
   "execution_count": null,
   "metadata": {},
   "outputs": [],
   "source": [
    "fig, ax = plt.subplots(figsize=(16, 9))\n",
    "# SNS count plot order by value counts\n",
    "sns.countplot(constructors_df, y=\"nationality\", order=constructors_df[\"nationality\"].value_counts().index)\n",
    "plt.show()"
   ]
  },
  {
   "cell_type": "markdown",
   "metadata": {},
   "source": [
    "Nota-se:\n",
    "\n",
    "- Há um domínio de equipes britânicas e americanas no esporte em toda sua história.\n",
    "  - Isso faz sentido levando em conta o poderio econômico desses países, além do fato da Grã-Bretanha ser até hoje o país que mais consume automobilismo.\n",
    "- Pelas mesmas razões, outros países europeus menores apresentam uma alta quantidade de construtores também.\n",
    "- Nota-se que há muitos países que contém apenas uma equipe. Há casos como o Brasil, com equipes como a Copersucar, e casos de \"equipes fantasma\", que são abordadas na seção a seguir."
   ]
  },
  {
   "cell_type": "markdown",
   "metadata": {},
   "source": [
    "### Filtrando construtores \"fantasma\""
   ]
  },
  {
   "cell_type": "markdown",
   "metadata": {},
   "source": [
    "Por questões de curiosidade, ao investigar qual era a equipe da Rodésia do Sul, descobri que se trata de uma construtora que se inscreveu para apenas uma prova na década de 60, mais especificamente, o GP da África do Sul de 1965. Apesar da inscrição ter sido feita, a equipe não chegou nem a participar do Grande Prêmio. (https://www.statsf1.com/en/realpha.aspx)\n",
    "\n",
    "Para filtrar os construtores apresentados e exigir um pouco mais de consistência dos nossos dados, iremos filtrar todos os construtores que realizaram ao menos 5 voltas em toda sua história. Para isso, precisaremos usar o conjunto de dados de resultados de corridas, filtrando-os por `constructorId`."
   ]
  },
  {
   "cell_type": "code",
   "execution_count": null,
   "metadata": {},
   "outputs": [],
   "source": [
    "result_df_raw = pd.read_csv(\".data/results.csv\")\n",
    "result_df_raw"
   ]
  },
  {
   "cell_type": "code",
   "execution_count": null,
   "metadata": {},
   "outputs": [],
   "source": [
    "if \"laps\" in constructors_df.columns:\n",
    "    constructors_df = constructors_df.drop(\"laps\", axis=1)\n",
    "constructors_df_laps = result_df_raw[[\n",
    "    \"constructorId\",\n",
    "    \"laps\"\n",
    "]].groupby(\"constructorId\").sum()\n",
    "constructors_df = constructors_df.join(constructors_df_laps)\n",
    "constructors_df = constructors_df.fillna(0).astype({\"laps\": int})\n",
    "constructors_df"
   ]
  },
  {
   "cell_type": "markdown",
   "metadata": {},
   "source": [
    "<text style=\"color: red\">Nota-se: foi usado agrupamento por `constructorId`, ignorando completamente o fato de que dois (ou mais, a depender da temporada) pilotos podem atuar por uma mesma equipe em determinada corrida. Para nossos propósitos de filtragem, isso é irrelevante.</text>"
   ]
  },
  {
   "cell_type": "markdown",
   "metadata": {},
   "source": [
    "<a id='constructor_lap_distribution'></a>\n",
    "Quais equipes com mais voltas-piloto na história da Fórmula 1? Para facilitar visualização, iremos limitar às 15 primeiras."
   ]
  },
  {
   "cell_type": "code",
   "execution_count": null,
   "metadata": {},
   "outputs": [],
   "source": [
    "fig, ax = plt.subplots(figsize=(16, 9))\n",
    "\n",
    "constructors_df.sort_values(\"laps\", ascending=False).head(15).plot(kind=\"bar\", x=\"name\", y=\"laps\", ax=ax)\n",
    "ax.set_title(\"Top 15 Constructors by Laps\")\n",
    "ax.set_xlabel(\"Constructor\")\n",
    "ax.set_ylabel(\"Laps\")\n",
    "plt.xticks(rotation=45)\n",
    "plt.tight_layout()\n",
    "plt.show()"
   ]
  },
  {
   "cell_type": "markdown",
   "metadata": {},
   "source": [
    "Novamente, esse resultado faz todo sentido levando em conta que a Scuderia Ferrari foi a única equipe a participar de todas as temporadas da Fórmula 1 desde 1950."
   ]
  },
  {
   "cell_type": "markdown",
   "metadata": {},
   "source": [
    "Voltando ao tema principal dessa seção, queremos avaliar a distribuição de nacionalidades excluindo as equipes fantasma."
   ]
  },
  {
   "cell_type": "code",
   "execution_count": null,
   "metadata": {},
   "outputs": [],
   "source": [
    "fig, ax = plt.subplots(figsize=(16, 9))\n",
    "LAPS = 5\n",
    "filtered_constructors_df = constructors_df.query(\"laps >= @@LAPS\")\n",
    "ignored_constructors_df = constructors_df.query(\"laps < @@LAPS\")\n",
    "sns.countplot(\n",
    "    filtered_constructors_df,\n",
    "    y=\"nationality\",\n",
    "    order=filtered_constructors_df[\"nationality\"].value_counts().index,\n",
    "    ax=ax)\n",
    "ax.set_title(f\"Nationality distribution of Constructors with at least {LAPS} laps\")\n",
    "ax.set_xlabel(\"Count\")\n",
    "ax.set_ylabel(\"Nationality\")\n",
    "plt.yticks(rotation=45)\n",
    "plt.show()"
   ]
  },
  {
   "cell_type": "markdown",
   "metadata": {},
   "source": [
    "### Equipes fantasma filtradas e o caso da Equipe Lotus"
   ]
  },
  {
   "cell_type": "markdown",
   "metadata": {},
   "source": [
    "Para efeito de comparação, vamos verificar quantas equipes nunca completaram 20 voltas em toda sua história."
   ]
  },
  {
   "cell_type": "code",
   "execution_count": null,
   "metadata": {},
   "outputs": [],
   "source": [
    "ignored_constructors_df"
   ]
  },
  {
   "cell_type": "markdown",
   "metadata": {},
   "source": [
    "Um contexto histórico precisa ser levado em conta nessa análise. No passado, era comum algumas construtoras usar diferentes motores em algumas etapas, então, embora a equipe Lotus tenha tido um número relevante de voltas em toda sua história..."
   ]
  },
  {
   "cell_type": "code",
   "execution_count": null,
   "metadata": {},
   "outputs": [],
   "source": [
    "lotus_df = constructors_df.query(\"name.str.contains('Lotus')\", engine=\"python\")\n",
    "lotus_df"
   ]
  },
  {
   "cell_type": "markdown",
   "metadata": {},
   "source": [
    "Essa iteração da equipe (dentre as outras listada acima) não realizou nenhuma volta.\n",
    "\n",
    "A Equipe Lotus já pertenceu a diferentes grupos, e cada uma desses grupos irão render uma diferente \"iteração\" da equipe. Infelizmente, não há como fazer uma aglutinação dessas diferentes iterações em um só registro de forma trivial.\n",
    "\n",
    "Espera-se também que isso tenha impactado o gráfico de distribuição de voltas-piloto por equipe. Para investigar, iremos aglutinar todas as iterações britânicas da equipe Lotus, somar a quantidade de voltas e qual seria o resultado dentre os outros construtores."
   ]
  },
  {
   "cell_type": "code",
   "execution_count": null,
   "metadata": {},
   "outputs": [],
   "source": [
    "total_laps = lotus_df[\"laps\"].sum()\n",
    "total_laps"
   ]
  },
  {
   "cell_type": "markdown",
   "metadata": {},
   "source": [
    "**Esse resultado colocaria a Lotus como a quarta equipe com mais voltas-piloto na história da Fórmula 1, ultrapassando Red Bull, Renault, Sauber e Tyrrell.**"
   ]
  },
  {
   "cell_type": "markdown",
   "metadata": {},
   "source": [
    "### [Distribuição de voltas](#constructor_lap_distribution)"
   ]
  },
  {
   "cell_type": "markdown",
   "metadata": {},
   "source": [
    "### Distribuição de vitórias"
   ]
  },
  {
   "cell_type": "code",
   "execution_count": null,
   "metadata": {},
   "outputs": [],
   "source": [
    "if \"wins\" in constructors_df.columns:\n",
    "    constructors_df = constructors_df.drop(\"wins\", axis=1)\n",
    "constructors_df_wins = result_df_raw[[\n",
    "    \"constructorId\",\n",
    "    \"position\"\n",
    "]].query(\"position == '1'\").groupby(\"constructorId\").count()\n",
    "constructors_df_wins.columns = [\"wins\"]\n",
    "constructors_df = constructors_df.join(constructors_df_wins)\n",
    "constructors_df = constructors_df.fillna(0).astype({\"wins\": int})\n",
    "constructors_df"
   ]
  },
  {
   "cell_type": "code",
   "execution_count": null,
   "metadata": {},
   "outputs": [],
   "source": [
    "fig, ax = plt.subplots(figsize=(16, 9))\n",
    "\n",
    "constructors_df.sort_values(\"wins\", ascending=False).head(15).plot(kind=\"bar\", x=\"name\", y=\"wins\", ax=ax)\n",
    "ax.set_title(\"Top 15 Constructors by Wins\")\n",
    "ax.set_xlabel(\"Constructor\")\n",
    "ax.set_ylabel(\"Wins\")\n",
    "plt.xticks(rotation=45)\n",
    "plt.tight_layout()\n",
    "plt.gcf().set_dpi(500)\n",
    "plt.show()"
   ]
  },
  {
   "cell_type": "markdown",
   "metadata": {},
   "source": [
    "# Análise de resultados"
   ]
  },
  {
   "cell_type": "code",
   "execution_count": null,
   "metadata": {},
   "outputs": [],
   "source": [
    "result_df_raw[result_df_raw[\"grid\"] == 0]"
   ]
  },
  {
   "cell_type": "code",
   "execution_count": null,
   "metadata": {},
   "outputs": [],
   "source": [
    "status_df_raw = pd.read_csv(\".data/status.csv\")\n",
    "status_df_raw"
   ]
  },
  {
   "cell_type": "markdown",
   "metadata": {},
   "source": [
    "## Distribuição de causas de não-finalização\n",
    "\n",
    "Podendo ser desqualificação ou abandono."
   ]
  },
  {
   "cell_type": "code",
   "execution_count": null,
   "metadata": {},
   "outputs": [],
   "source": [
    "dnf_df = result_df_raw[[\n",
    "    \"driverId\",\n",
    "    \"raceId\",\n",
    "    \"grid\",\n",
    "    \"position\",\n",
    "    \"statusId\",\n",
    "]].copy()\n",
    "dnf_df[\"grid\"] = pd.to_numeric(dnf_df[\"grid\"], \"coerce\")\n",
    "dnf_df[\"position\"] = pd.to_numeric(dnf_df[\"position\"], \"coerce\")\n",
    "dnf_df = dnf_df[dnf_df[\"position\"].isnull()]\n",
    "dnf_df = dnf_df.join(status_df_raw.set_index(\"statusId\"), on=\"statusId\")\n",
    "dnf_df.drop(columns=[\"statusId\"], inplace=True)\n",
    "dnf_df"
   ]
  },
  {
   "cell_type": "markdown",
   "metadata": {},
   "source": [
    "Histograma das principais causas de não-finalização"
   ]
  },
  {
   "cell_type": "code",
   "execution_count": null,
   "metadata": {},
   "outputs": [],
   "source": [
    "dnf_df[\"status\"].value_counts().head(15).plot(kind=\"bar\")"
   ]
  },
  {
   "cell_type": "markdown",
   "metadata": {},
   "source": [
    "Ignorando pilotos que não haviam qualificado"
   ]
  },
  {
   "cell_type": "code",
   "execution_count": null,
   "metadata": {},
   "outputs": [],
   "source": [
    "exclude_status = [\"Did not qualify\", \"Did not prequalify\", \"Not classified\"]\n",
    "dnf_df.query(\"status not in @@exclude_status\", engine=\"python\")[\"status\"].value_counts().head(15).plot(kind=\"bar\")"
   ]
  },
  {
   "cell_type": "markdown",
   "metadata": {},
   "source": [
    "Também é possível separar por piloto (p.e. abandonos do Lewis Hamilton)"
   ]
  },
  {
   "cell_type": "code",
   "execution_count": null,
   "metadata": {},
   "outputs": [],
   "source": [
    "dnf_df.query(\"driverId == 1 & status not in @@exclude_status\", engine=\"python\")[\"status\"].value_counts().head(15).plot(kind=\"bar\")"
   ]
  },
  {
   "cell_type": "markdown",
   "metadata": {},
   "source": [
    "Será que existe diferentes distribuições de abandono para cada posição de largada?"
   ]
  },
  {
   "cell_type": "code",
   "execution_count": null,
   "metadata": {},
   "outputs": [],
   "source": [
    "# It would be interesting to show how many DNFs we have in this. For now, only ignoring.\n",
    "import numpy as np\n",
    "import matplotlib.animation as animation\n",
    "from matplotlib.ticker import MaxNLocator, PercentFormatter\n",
    "\n",
    "fig, ax = plt.subplots()\n",
    "x = np.unique(dnf_df['grid'].sort_values().values)\n",
    "\n",
    "def update(frame):\n",
    "    this_x = x[frame]\n",
    "    subset = dnf_df.query(\"grid == @@this_x & status not in @@exclude_status\", engine=\"python\")[\"status\"].value_counts()\n",
    "    this_data = subset.head(15)\n",
    "    total = subset.sum()\n",
    "    percentage = (this_data / total) * 100\n",
    "    ax.cla()\n",
    "    percentage.plot(kind=\"bar\", ax=ax)\n",
    "    if this_x == 0:\n",
    "        title = \"Histogram for starting from the pitlane\"\n",
    "    else:\n",
    "        title = f\"Histogram for starting grid at {this_x}\"\n",
    "    ax.set_title(title)\n",
    "    ax.yaxis.set_major_locator(MaxNLocator(integer=True))\n",
    "    ax.yaxis.set_major_formatter(PercentFormatter())\n",
    "\n",
    "anim = animation.FuncAnimation(fig=fig, func=update, frames=len(x), interval=1000)\n",
    "anim.save(\".animations/dnfs.mp4\")"
   ]
  },
  {
   "cell_type": "markdown",
   "metadata": {},
   "source": [
    "## Para quem concluiu: distribuição de resultados por grid x posição\n",
    "\n",
    "Ignorando resultados obtidos a partir de largada do pitlane"
   ]
  },
  {
   "cell_type": "code",
   "execution_count": null,
   "metadata": {},
   "outputs": [],
   "source": [
    "position_grid_df = result_df_raw[[\n",
    "    \"grid\",\n",
    "    \"position\",\n",
    "]].copy()\n",
    "position_grid_df[\"grid\"] = pd.to_numeric(position_grid_df[\"grid\"], \"coerce\")\n",
    "position_grid_df[\"position\"] = pd.to_numeric(position_grid_df[\"position\"], \"coerce\")\n",
    "position_grid_df = position_grid_df.dropna()\n",
    "position_grid_df[\"position\"] = position_grid_df[\"position\"].astype(int)\n",
    "ignored_pitlane_df = position_grid_df.query(\"grid > 0\")\n",
    "plt.hist2d(ignored_pitlane_df[\"grid\"], ignored_pitlane_df[\"position\"], (10, 10))\n",
    "plt.colorbar()\n",
    "plt.show()"
   ]
  },
  {
   "cell_type": "markdown",
   "metadata": {},
   "source": [
    "Histograma em uma dimensão, um frame para cada posição de largada. Incluindo largadas do pitlane."
   ]
  },
  {
   "cell_type": "code",
   "execution_count": null,
   "metadata": {},
   "outputs": [],
   "source": [
    "import numpy as np\n",
    "import matplotlib.animation as animation\n",
    "from matplotlib.ticker import MaxNLocator, PercentFormatter\n",
    "\n",
    "fig, ax = plt.subplots()\n",
    "x = np.unique(position_grid_df['grid'].sort_values().values)\n",
    "\n",
    "def update(frame):\n",
    "    if frame < 10:\n",
    "        this_x = 0\n",
    "    else:\n",
    "        this_x = x[frame - 10]\n",
    "    this_data = position_grid_df[position_grid_df[\"grid\"] == this_x][\"position\"].values\n",
    "    ax.cla()\n",
    "    sns.histplot(this_data, bins=33, binrange=(1, 33), ax=ax, stat='percent')\n",
    "    if this_x == 0:\n",
    "        title = \"Histogram for starting from the pitlane\"\n",
    "    else:\n",
    "        title = f\"Histogram for starting grid at {this_x}\"\n",
    "    ax.set_title(title)\n",
    "    ax.yaxis.set_major_locator(MaxNLocator(integer=True))\n",
    "    ax.yaxis.set_major_formatter(PercentFormatter())\n",
    "anim = animation.FuncAnimation(fig=fig, func=update, frames=len(x) + 10, interval=200)\n",
    "anim.save(\".animations/gridxpos.mp4\")"
   ]
  },
  {
   "cell_type": "code",
   "execution_count": null,
   "metadata": {},
   "outputs": [],
   "source": [
    "fig, ax = plt.subplots()\n",
    "x = np.unique(ignored_pitlane_df['grid'].sort_values().values)\n",
    "\n",
    "def update(frame):\n",
    "    this_x = x[frame]\n",
    "    this_data = ignored_pitlane_df[ignored_pitlane_df[\"grid\"] == this_x][\"position\"]\n",
    "    this_data = (-this_data) + this_x\n",
    "    ax.cla()\n",
    "    this_data.value_counts().sort_index(ascending=False).plot(kind=\"bar\", ax=ax)\n",
    "    if this_x == 0:\n",
    "        title = \"Histogram for starting from the pitlane\"\n",
    "    else:\n",
    "        title = f\"Histogram for starting grid at {this_x}\"\n",
    "    ax.set_title(title)\n",
    "    ax.yaxis.set_major_locator(MaxNLocator(integer=True))\n",
    "    ax.yaxis.set_major_formatter(PercentFormatter())\n",
    "anim = animation.FuncAnimation(fig=fig, func=update, frames=len(x), interval=200)\n",
    "anim.save(\".animations/gridxpos_test.mp4\")"
   ]
  }
 ],
 "metadata": {
  "kernelspec": {
   "display_name": ".venv",
   "language": "python",
   "name": "python3"
  },
  "language_info": {
   "codemirror_mode": {
    "name": "ipython",
    "version": 3
   },
   "file_extension": ".py",
   "mimetype": "text/x-python",
   "name": "python",
   "nbconvert_exporter": "python",
   "pygments_lexer": "ipython3",
   "version": "3.11.6"
  }
 },
 "nbformat": 4,
 "nbformat_minor": 2
}
