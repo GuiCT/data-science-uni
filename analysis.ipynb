{
 "cells": [
  {
   "cell_type": "markdown",
   "metadata": {},
   "source": [
    "# Importações e tratamentos\n",
    "\n",
    "Independente de qual seção executar, execute essa primeiro."
   ]
  },
  {
   "cell_type": "code",
   "execution_count": null,
   "metadata": {},
   "outputs": [],
   "source": [
    "import matplotlib as mpl\n",
    "import matplotlib.pyplot as plt\n",
    "import numpy as np\n",
    "import pandas as pd\n",
    "import seaborn as sns\n",
    "import os"
   ]
  },
  {
   "cell_type": "code",
   "execution_count": null,
   "metadata": {},
   "outputs": [],
   "source": [
    "mpl.rcParams['figure.dpi'] = 300\n",
    "\n",
    "sns.set_palette(\"husl\")\n",
    "sns.set_style(\"whitegrid\")"
   ]
  },
  {
   "cell_type": "markdown",
   "metadata": {},
   "source": [
    "Caso `.data_parquet` exista, leia todos os parquets"
   ]
  },
  {
   "cell_type": "code",
   "execution_count": null,
   "metadata": {},
   "outputs": [],
   "source": [
    "raw_dfs: dict[str, pd.DataFrame] = {}\n",
    "if os.path.exists(\".data_parquet\"):\n",
    "    for filename in os.listdir(\".data_parquet\"):\n",
    "        if filename.endswith(\".parquet\"):\n",
    "            treated_filename = filename.replace(\".parquet\", \"\")\n",
    "            raw_dfs[treated_filename] = pd.read_parquet(f\".data_parquet/{filename}\")"
   ]
  },
  {
   "cell_type": "markdown",
   "metadata": {},
   "source": [
    "Caso contrário, leia-se os CSVs e gere os parquets."
   ]
  },
  {
   "cell_type": "code",
   "execution_count": null,
   "metadata": {},
   "outputs": [],
   "source": [
    "if not os.path.exists(\".data_parquet\"):\n",
    "    os.makedirs(\".data_parquet\")\n",
    "    raw_dfs: dict[str, pd.DataFrame] = dict()\n",
    "\n",
    "    circuits_df_raw = pd.read_csv(\n",
    "        \".data/circuits.csv\",\n",
    "        index_col=\"circuitId\"\n",
    "    )\n",
    "    circuits_df_raw[\"alt\"] = pd.to_numeric(circuits_df_raw[\"alt\"], errors=\"coerce\")\n",
    "    circuits_df_raw.to_parquet(\".data_parquet/circuits.parquet\")\n",
    "    raw_dfs[\"circuits\"] = circuits_df_raw\n",
    "    del circuits_df_raw\n",
    "\n",
    "    constructor_results_df_raw = pd.read_csv(\n",
    "        \".data/constructor_results.csv\",\n",
    "        index_col=\"constructorResultsId\"\n",
    "    )\n",
    "    constructor_results_df_raw.to_parquet(\".data_parquet/constructor_results.parquet\")\n",
    "    raw_dfs[\"constructor_results\"] = constructor_results_df_raw\n",
    "    del constructor_results_df_raw\n",
    "\n",
    "    constructor_standings_df_raw = pd.read_csv(\n",
    "        \".data/constructor_standings.csv\",\n",
    "        index_col=\"constructorStandingsId\"\n",
    "    )\n",
    "    constructor_standings_df_raw.to_parquet(\".data_parquet/constructor_standings.parquet\")\n",
    "    raw_dfs[\"constructor_standings\"] = constructor_standings_df_raw\n",
    "    del constructor_standings_df_raw\n",
    "\n",
    "    constructors_df_raw = pd.read_csv(\n",
    "        \".data/constructors.csv\",\n",
    "        index_col=\"constructorId\"\n",
    "    )\n",
    "    constructors_df_raw.to_parquet(\".data_parquet/constructors.parquet\")\n",
    "    raw_dfs[\"constructors\"] = constructors_df_raw\n",
    "    del constructors_df_raw\n",
    "\n",
    "    driver_standings_df_raw = pd.read_csv(\n",
    "        \".data/driver_standings.csv\",\n",
    "        index_col=\"driverStandingsId\"\n",
    "    )\n",
    "    driver_standings_df_raw.to_parquet(\".data_parquet/driver_standings.parquet\")\n",
    "    raw_dfs[\"driver_standings\"] = driver_standings_df_raw\n",
    "    del driver_standings_df_raw\n",
    "\n",
    "    drivers_df_raw = pd.read_csv(\n",
    "        \".data/drivers.csv\",\n",
    "        index_col=\"driverId\"\n",
    "    )\n",
    "    drivers_df_raw[\"number\"] = pd.to_numeric(drivers_df_raw[\"number\"], errors=\"coerce\")\n",
    "    drivers_df_raw[\"dob\"] = pd.to_datetime(drivers_df_raw[\"dob\"], errors=\"coerce\")\n",
    "    drivers_df_raw.to_parquet(\".data_parquet/drivers.parquet\")\n",
    "    raw_dfs[\"drivers\"] = drivers_df_raw\n",
    "    del drivers_df_raw\n",
    "\n",
    "    lap_times_df_raw = pd.read_csv(\n",
    "        \".data/lap_times.csv\",\n",
    "        index_col=[\"raceId\", \"driverId\", \"lap\"]\n",
    "    )\n",
    "    # Redundant data\n",
    "    lap_times_df_raw = lap_times_df_raw.drop(columns=[\"time\"])\n",
    "    lap_times_df_raw.to_parquet(\".data_parquet/lap_times.parquet\")\n",
    "    raw_dfs[\"lap_times\"] = lap_times_df_raw\n",
    "    del lap_times_df_raw\n",
    "\n",
    "    races_df_raw = pd.read_csv(\n",
    "        \".data/races.csv\",\n",
    "        index_col=\"raceId\"\n",
    "    )\n",
    "    races_df_raw[\"datetime\"] = pd.to_datetime(races_df_raw[\"date\"] + \" \" + races_df_raw[\"time\"], errors=\"coerce\")\n",
    "    # Redundant data\n",
    "    races_df_raw = races_df_raw.drop(columns=[\"date\", \"time\"])\n",
    "    races_df_raw.to_parquet(\".data_parquet/races.parquet\")\n",
    "    raw_dfs[\"races\"] = races_df_raw\n",
    "    del races_df_raw\n",
    "\n",
    "    pit_stops_df_raw = pd.read_csv(\n",
    "        \".data/pit_stops.csv\",\n",
    "        index_col=[\"raceId\", \"driverId\", \"stop\"]\n",
    "    )\n",
    "    pit_stops_df_raw = pit_stops_df_raw.drop(columns=[\"duration\"])\n",
    "    pit_stops_df_raw.to_parquet(\".data_parquet/pit_stops.parquet\")\n",
    "    raw_dfs[\"pit_stops\"] = pit_stops_df_raw\n",
    "\n",
    "    qualifying_df_raw = pd.read_csv(\n",
    "        \".data/qualifying.csv\",\n",
    "        index_col=[\"raceId\", \"driverId\"]\n",
    "    )\n",
    "    qualifying_df_raw = qualifying_df_raw.drop(columns=[\"qualifyId\"])\n",
    "    def lap_time_to_millis(lap_time: str) -> int:\n",
    "        try:\n",
    "            minutes, rest = lap_time.split(\":\")\n",
    "            seconds, millis = rest.split(\".\")\n",
    "            millis_total = int(minutes) * 60_000 + int(seconds) * 1_000 + int(millis)\n",
    "            return np.float64(millis_total)\n",
    "        except Exception:\n",
    "            return np.nan\n",
    "    qualifying_df_raw[\"q1\"] = qualifying_df_raw[\"q1\"].apply(lap_time_to_millis)\n",
    "    qualifying_df_raw[\"q2\"] = qualifying_df_raw[\"q2\"].apply(lap_time_to_millis)\n",
    "    qualifying_df_raw[\"q3\"] = qualifying_df_raw[\"q3\"].apply(lap_time_to_millis)\n",
    "    qualifying_df_raw.to_parquet(\".data_parquet/qualifying.parquet\")\n",
    "    raw_dfs[\"qualifying\"] = qualifying_df_raw\n",
    "    del qualifying_df_raw\n",
    "\n",
    "    results_df_raw = pd.read_csv(\n",
    "        \".data/results.csv\",\n",
    "        index_col=[\"raceId\", \"driverId\"]\n",
    "    )\n",
    "    results_df_raw = results_df_raw.drop(columns=[\n",
    "        \"resultId\",\n",
    "        \"number\",\n",
    "        \"positionText\",\n",
    "        \"positionOrder\",\n",
    "        \"time\"])\n",
    "    results_df_raw[\"position\"] = pd.to_numeric(results_df_raw[\"position\"], errors=\"coerce\")\n",
    "    results_df_raw[\"milliseconds\"] = pd.to_numeric(results_df_raw[\"milliseconds\"], errors=\"coerce\")\n",
    "    results_df_raw[\"fastestLap\"] = pd.to_numeric(results_df_raw[\"fastestLap\"], errors=\"coerce\")\n",
    "    results_df_raw[\"rank\"] = pd.to_numeric(results_df_raw[\"rank\"], errors=\"coerce\")\n",
    "    results_df_raw[\"fastestLapMillis\"] = results_df_raw[\"fastestLapTime\"].apply(lap_time_to_millis)\n",
    "    results_df_raw.to_parquet(\".data_parquet/results.parquet\")\n",
    "    raw_dfs[\"results\"] = results_df_raw\n",
    "    del results_df_raw\n",
    "\n",
    "    status_df_raw = pd.read_csv(\n",
    "        \".data/status.csv\",\n",
    "        index_col=\"statusId\"\n",
    "    )\n",
    "    status_df_raw.to_parquet(\".data_parquet/status.parquet\")\n",
    "    raw_dfs[\"status\"] = status_df_raw\n",
    "    del status_df_raw"
   ]
  },
  {
   "cell_type": "markdown",
   "metadata": {},
   "source": [
    "# Visualizações"
   ]
  },
  {
   "cell_type": "markdown",
   "metadata": {},
   "source": [
    "## Construtores"
   ]
  },
  {
   "cell_type": "markdown",
   "metadata": {},
   "source": [
    "### Distribuição de nacionalidades"
   ]
  },
  {
   "cell_type": "code",
   "execution_count": null,
   "metadata": {},
   "outputs": [],
   "source": [
    "fig, ax = plt.subplots(figsize=(16, 9))\n",
    "# SNS count plot order by value counts\n",
    "sns.countplot(raw_dfs[\"constructors\"], y=\"nationality\", order=raw_dfs[\"constructors\"][\"nationality\"].value_counts().index)\n",
    "plt.show()"
   ]
  },
  {
   "cell_type": "markdown",
   "metadata": {},
   "source": [
    "Nota-se:\n",
    "\n",
    "- Há um domínio de equipes britânicas e americanas no esporte em toda sua história.\n",
    "  - Isso faz sentido levando em conta o poderio econômico desses países, além do fato da Grã-Bretanha ser até hoje o país que mais consume automobilismo.\n",
    "- Pelas mesmas razões, outros países europeus menores apresentam uma alta quantidade de construtores também.\n",
    "- Nota-se que há muitos países que contém apenas uma equipe. Há casos como o Brasil, com equipes como a Copersucar, e casos de \"equipes fantasma\", que são abordadas na seção a seguir."
   ]
  },
  {
   "cell_type": "markdown",
   "metadata": {},
   "source": [
    "### Filtrando construtores \"fantasma\""
   ]
  },
  {
   "cell_type": "markdown",
   "metadata": {},
   "source": [
    "Por questões de curiosidade, ao investigar qual era a equipe da Rodésia do Sul, descobri que se trata de uma construtora que se inscreveu para apenas uma prova na década de 60, mais especificamente, o GP da África do Sul de 1965. Apesar da inscrição ter sido feita, a equipe não chegou nem a participar do Grande Prêmio. (https://www.statsf1.com/en/realpha.aspx)\n",
    "\n",
    "Para filtrar os construtores apresentados e exigir um pouco mais de consistência dos nossos dados, iremos filtrar todos os construtores que realizaram ao menos 5 voltas em toda sua história. Para isso, precisaremos usar o conjunto de dados de resultados de corridas, filtrando-os por `constructorId`."
   ]
  },
  {
   "cell_type": "code",
   "execution_count": null,
   "metadata": {},
   "outputs": [],
   "source": [
    "constructors_df = raw_dfs[\"constructors\"].copy()\n",
    "if \"laps\" in constructors_df.columns:\n",
    "    constructors_df = constructors_df.drop(\"laps\", axis=1)\n",
    "constructors_df_laps = raw_dfs[\"results\"][[\n",
    "    \"constructorId\",\n",
    "    \"laps\"\n",
    "]].groupby(\"constructorId\").sum()\n",
    "constructors_df = constructors_df.join(constructors_df_laps)\n",
    "constructors_df = constructors_df.fillna(0).astype({\"laps\": int})\n",
    "constructors_df"
   ]
  },
  {
   "cell_type": "markdown",
   "metadata": {},
   "source": [
    "<text style=\"color: red\">Nota-se: foi usado agrupamento por `constructorId`, ignorando completamente o fato de que dois (ou mais, a depender da temporada) pilotos podem atuar por uma mesma equipe em determinada corrida. Para nossos propósitos de filtragem, isso é irrelevante.</text>"
   ]
  },
  {
   "cell_type": "markdown",
   "metadata": {},
   "source": [
    "<a id='constructor_lap_distribution'></a>\n",
    "Quais equipes com mais voltas-piloto na história da Fórmula 1? Para facilitar visualização, iremos limitar às 15 primeiras."
   ]
  },
  {
   "cell_type": "code",
   "execution_count": null,
   "metadata": {},
   "outputs": [],
   "source": [
    "fig, ax = plt.subplots(figsize=(16, 9))\n",
    "\n",
    "constructors_df.sort_values(\"laps\", ascending=False).head(15).plot(kind=\"bar\", x=\"name\", y=\"laps\", ax=ax)\n",
    "ax.set_title(\"Top 15 Constructors by Laps\")\n",
    "ax.set_xlabel(\"Constructor\")\n",
    "ax.set_ylabel(\"Laps\")\n",
    "plt.xticks(rotation=45)\n",
    "plt.tight_layout()\n",
    "plt.show()"
   ]
  },
  {
   "cell_type": "markdown",
   "metadata": {},
   "source": [
    "Novamente, esse resultado faz todo sentido levando em conta que a Scuderia Ferrari foi a única equipe a participar de todas as temporadas da Fórmula 1 desde 1950."
   ]
  },
  {
   "cell_type": "markdown",
   "metadata": {},
   "source": [
    "Voltando ao tema principal dessa seção, queremos avaliar a distribuição de nacionalidades excluindo as equipes fantasma."
   ]
  },
  {
   "cell_type": "code",
   "execution_count": null,
   "metadata": {},
   "outputs": [],
   "source": [
    "fig, ax = plt.subplots(figsize=(16, 9))\n",
    "LAPS = 5\n",
    "filtered_constructors_df = constructors_df.query(\"laps >= @@LAPS\")\n",
    "ignored_constructors_df = constructors_df.query(\"laps < @@LAPS\")\n",
    "sns.countplot(\n",
    "    filtered_constructors_df,\n",
    "    y=\"nationality\",\n",
    "    order=filtered_constructors_df[\"nationality\"].value_counts().index,\n",
    "    ax=ax)\n",
    "ax.set_title(f\"Nationality distribution of Constructors with at least {LAPS} laps\")\n",
    "ax.set_xlabel(\"Count\")\n",
    "ax.set_ylabel(\"Nationality\")\n",
    "plt.yticks(rotation=45)\n",
    "plt.show()"
   ]
  },
  {
   "cell_type": "markdown",
   "metadata": {},
   "source": [
    "### Equipes fantasma filtradas e o caso da Equipe Lotus"
   ]
  },
  {
   "cell_type": "markdown",
   "metadata": {},
   "source": [
    "Para efeito de comparação, vamos verificar quantas equipes nunca completaram 20 voltas em toda sua história."
   ]
  },
  {
   "cell_type": "code",
   "execution_count": null,
   "metadata": {},
   "outputs": [],
   "source": [
    "ignored_constructors_df"
   ]
  },
  {
   "cell_type": "markdown",
   "metadata": {},
   "source": [
    "Um contexto histórico precisa ser levado em conta nessa análise. No passado, era comum algumas construtoras usar diferentes motores em algumas etapas, então, embora a equipe Lotus tenha tido um número relevante de voltas em toda sua história..."
   ]
  },
  {
   "cell_type": "code",
   "execution_count": null,
   "metadata": {},
   "outputs": [],
   "source": [
    "lotus_df = constructors_df.query(\"name.str.contains('Lotus')\", engine=\"python\")\n",
    "lotus_df"
   ]
  },
  {
   "cell_type": "markdown",
   "metadata": {},
   "source": [
    "Essa iteração da equipe (dentre as outras listada acima) não realizou nenhuma volta.\n",
    "\n",
    "A Equipe Lotus já pertenceu a diferentes grupos, e cada uma desses grupos irão render uma diferente \"iteração\" da equipe. Infelizmente, não há como fazer uma aglutinação dessas diferentes iterações em um só registro de forma trivial.\n",
    "\n",
    "Espera-se também que isso tenha impactado o gráfico de distribuição de voltas-piloto por equipe. Para investigar, iremos aglutinar todas as iterações britânicas da equipe Lotus, somar a quantidade de voltas e qual seria o resultado dentre os outros construtores."
   ]
  },
  {
   "cell_type": "code",
   "execution_count": null,
   "metadata": {},
   "outputs": [],
   "source": [
    "total_laps = lotus_df[\"laps\"].sum()\n",
    "total_laps"
   ]
  },
  {
   "cell_type": "markdown",
   "metadata": {},
   "source": [
    "**Esse resultado colocaria a Lotus como a quarta equipe com mais voltas-piloto na história da Fórmula 1, ultrapassando Red Bull, Renault, Sauber e Tyrrell.**"
   ]
  },
  {
   "cell_type": "markdown",
   "metadata": {},
   "source": [
    "### [Distribuição de voltas](#constructor_lap_distribution)"
   ]
  },
  {
   "cell_type": "markdown",
   "metadata": {},
   "source": [
    "### Distribuição de vitórias"
   ]
  },
  {
   "cell_type": "code",
   "execution_count": null,
   "metadata": {},
   "outputs": [],
   "source": [
    "if \"wins\" in constructors_df.columns:\n",
    "    constructors_df = constructors_df.drop(\"wins\", axis=1)\n",
    "constructors_df_wins = raw_dfs[\"results\"][[\n",
    "    \"constructorId\",\n",
    "    \"position\"\n",
    "]].query(\"position == 1\").groupby(\"constructorId\").count()\n",
    "constructors_df_wins.columns = [\"wins\"]\n",
    "constructors_df = constructors_df.join(constructors_df_wins)\n",
    "constructors_df = constructors_df.fillna(0).astype({\"wins\": int})\n",
    "constructors_df"
   ]
  },
  {
   "cell_type": "code",
   "execution_count": null,
   "metadata": {},
   "outputs": [],
   "source": [
    "fig, ax = plt.subplots(figsize=(16, 9))\n",
    "\n",
    "constructors_df.sort_values(\"wins\", ascending=False).head(15).plot(kind=\"bar\", x=\"name\", y=\"wins\", ax=ax)\n",
    "ax.set_title(\"Top 15 Constructors by Wins\")\n",
    "ax.set_xlabel(\"Constructor\")\n",
    "ax.set_ylabel(\"Wins\")\n",
    "plt.xticks(rotation=45)\n",
    "plt.tight_layout()\n",
    "plt.gcf().set_dpi(500)\n",
    "plt.show()"
   ]
  },
  {
   "cell_type": "markdown",
   "metadata": {},
   "source": [
    "# Análise de resultados"
   ]
  },
  {
   "cell_type": "code",
   "execution_count": null,
   "metadata": {},
   "outputs": [],
   "source": [
    "raw_dfs[\"results\"][raw_dfs[\"results\"][\"grid\"] == 0]"
   ]
  },
  {
   "cell_type": "markdown",
   "metadata": {},
   "source": [
    "## Distribuição de causas de não-finalização\n",
    "\n",
    "Podendo ser desqualificação ou abandono."
   ]
  },
  {
   "cell_type": "code",
   "execution_count": null,
   "metadata": {},
   "outputs": [],
   "source": [
    "dnf_df = raw_dfs[\"results\"][[\n",
    "    \"grid\",\n",
    "    \"position\",\n",
    "    \"statusId\",\n",
    "]].copy()\n",
    "dnf_df[\"grid\"] = pd.to_numeric(dnf_df[\"grid\"], \"coerce\")\n",
    "dnf_df[\"position\"] = pd.to_numeric(dnf_df[\"position\"], \"coerce\")\n",
    "dnf_df = dnf_df[dnf_df[\"position\"].isnull()]\n",
    "dnf_df = dnf_df.join(raw_dfs[\"status\"], on=\"statusId\")\n",
    "dnf_df.drop(columns=[\"statusId\"], inplace=True)\n",
    "dnf_df"
   ]
  },
  {
   "cell_type": "markdown",
   "metadata": {},
   "source": [
    "Histograma das principais causas de não-finalização"
   ]
  },
  {
   "cell_type": "code",
   "execution_count": null,
   "metadata": {},
   "outputs": [],
   "source": [
    "dnf_df[\"status\"].value_counts().head(15).plot(kind=\"bar\")"
   ]
  },
  {
   "cell_type": "markdown",
   "metadata": {},
   "source": [
    "Ignorando pilotos que não haviam qualificado"
   ]
  },
  {
   "cell_type": "code",
   "execution_count": null,
   "metadata": {},
   "outputs": [],
   "source": [
    "exclude_status = [\"Did not qualify\", \"Did not prequalify\", \"Not classified\"]\n",
    "dnf_df.query(\"status not in @@exclude_status\", engine=\"python\")[\"status\"].value_counts().head(15).plot(kind=\"bar\")"
   ]
  },
  {
   "cell_type": "markdown",
   "metadata": {},
   "source": [
    "Também é possível separar por piloto (p.e. abandonos do Lewis Hamilton)"
   ]
  },
  {
   "cell_type": "code",
   "execution_count": null,
   "metadata": {},
   "outputs": [],
   "source": [
    "dnf_df.query(\"driverId == 1 & status not in @@exclude_status\", engine=\"python\")[\"status\"].value_counts().head(15).plot(kind=\"bar\")"
   ]
  },
  {
   "cell_type": "markdown",
   "metadata": {},
   "source": [
    "Será que existe diferentes distribuições de abandono para cada posição de largada?"
   ]
  },
  {
   "cell_type": "code",
   "execution_count": null,
   "metadata": {},
   "outputs": [],
   "source": [
    "# It would be interesting to show how many DNFs we have in this. For now, only ignoring.\n",
    "import numpy as np\n",
    "import matplotlib.animation as animation\n",
    "from matplotlib.ticker import MaxNLocator, PercentFormatter\n",
    "\n",
    "fig, ax = plt.subplots()\n",
    "x = np.unique(dnf_df['grid'].sort_values().values)\n",
    "\n",
    "def update(frame):\n",
    "    this_x = x[frame]\n",
    "    subset = dnf_df.query(\"grid == @@this_x & status not in @@exclude_status\", engine=\"python\")[\"status\"].value_counts()\n",
    "    this_data = subset.head(15)\n",
    "    total = subset.sum()\n",
    "    percentage = (this_data / total) * 100\n",
    "    ax.cla()\n",
    "    percentage.plot(kind=\"bar\", ax=ax)\n",
    "    if this_x == 0:\n",
    "        title = \"Histogram for starting from the pitlane\"\n",
    "    else:\n",
    "        title = f\"Histogram for starting grid at {this_x}\"\n",
    "    ax.set_title(title)\n",
    "    ax.yaxis.set_major_locator(MaxNLocator(integer=True))\n",
    "    ax.yaxis.set_major_formatter(PercentFormatter())\n",
    "\n",
    "anim = animation.FuncAnimation(fig=fig, func=update, frames=len(x), interval=1000)\n",
    "anim.save(\".animations/dnfs.mp4\")"
   ]
  },
  {
   "cell_type": "markdown",
   "metadata": {},
   "source": [
    "## Para quem concluiu: distribuição de resultados por grid x posição\n",
    "\n",
    "Ignorando resultados obtidos a partir de largada do pitlane"
   ]
  },
  {
   "cell_type": "code",
   "execution_count": null,
   "metadata": {},
   "outputs": [],
   "source": [
    "position_grid_df = raw_dfs[\"results\"][[\n",
    "    \"grid\",\n",
    "    \"position\",\n",
    "]].copy()\n",
    "position_grid_df[\"grid\"] = pd.to_numeric(position_grid_df[\"grid\"], \"coerce\")\n",
    "position_grid_df[\"position\"] = pd.to_numeric(position_grid_df[\"position\"], \"coerce\")\n",
    "position_grid_df = position_grid_df.dropna()\n",
    "position_grid_df[\"position\"] = position_grid_df[\"position\"].astype(int)\n",
    "ignored_pitlane_df = position_grid_df.query(\"grid > 0\")\n",
    "plt.hist2d(ignored_pitlane_df[\"grid\"], ignored_pitlane_df[\"position\"], (10, 10))\n",
    "plt.colorbar()\n",
    "plt.show()"
   ]
  },
  {
   "cell_type": "markdown",
   "metadata": {},
   "source": [
    "Histograma em uma dimensão, um frame para cada posição de largada. Incluindo largadas do pitlane."
   ]
  },
  {
   "cell_type": "code",
   "execution_count": null,
   "metadata": {},
   "outputs": [],
   "source": [
    "import numpy as np\n",
    "import matplotlib.animation as animation\n",
    "from matplotlib.ticker import MaxNLocator, PercentFormatter\n",
    "\n",
    "fig, ax = plt.subplots()\n",
    "x = np.unique(position_grid_df['grid'].sort_values().values)\n",
    "\n",
    "def update(frame):\n",
    "    if frame < 10:\n",
    "        this_x = 0\n",
    "    else:\n",
    "        this_x = x[frame - 10]\n",
    "    this_data = position_grid_df[position_grid_df[\"grid\"] == this_x][\"position\"].values\n",
    "    ax.cla()\n",
    "    sns.histplot(this_data, bins=33, binrange=(1, 33), ax=ax, stat='percent')\n",
    "    if this_x == 0:\n",
    "        title = \"Histogram for starting from the pitlane\"\n",
    "    else:\n",
    "        title = f\"Histogram for starting grid at {this_x}\"\n",
    "    ax.set_title(title)\n",
    "    ax.yaxis.set_major_locator(MaxNLocator(integer=True))\n",
    "    ax.yaxis.set_major_formatter(PercentFormatter())\n",
    "anim = animation.FuncAnimation(fig=fig, func=update, frames=len(x) + 10, interval=200)\n",
    "anim.save(\".animations/gridxpos.mp4\")"
   ]
  },
  {
   "cell_type": "code",
   "execution_count": null,
   "metadata": {},
   "outputs": [],
   "source": [
    "fig, ax = plt.subplots()\n",
    "x = np.unique(ignored_pitlane_df['grid'].sort_values().values)\n",
    "\n",
    "def update(frame):\n",
    "    this_x = x[frame]\n",
    "    this_data = ignored_pitlane_df[ignored_pitlane_df[\"grid\"] == this_x][\"position\"]\n",
    "    this_data = (-this_data) + this_x\n",
    "    ax.cla()\n",
    "    this_data.value_counts().sort_index(ascending=False).plot(kind=\"bar\", ax=ax)\n",
    "    if this_x == 0:\n",
    "        title = \"Histogram for starting from the pitlane\"\n",
    "    else:\n",
    "        title = f\"Histogram for starting grid at {this_x}\"\n",
    "    ax.set_title(title)\n",
    "    ax.yaxis.set_major_locator(MaxNLocator(integer=True))\n",
    "    ax.yaxis.set_major_formatter(PercentFormatter())\n",
    "anim = animation.FuncAnimation(fig=fig, func=update, frames=len(x), interval=200)\n",
    "anim.save(\".animations/gridxpos_test.mp4\")"
   ]
  },
  {
   "cell_type": "markdown",
   "metadata": {},
   "source": [
    "## Circuitos\n",
    "\n",
    "Assim como a distribuição de nacionalidades dos construtores, é interessante analisar a distribuição de países cujos circuitos já foram utilizados para uma corrida de Fórmula 1."
   ]
  },
  {
   "cell_type": "code",
   "execution_count": null,
   "metadata": {},
   "outputs": [],
   "source": [
    "fig, ax = plt.subplots(figsize=(16, 9))\n",
    "(\n",
    "    raw_dfs[\"circuits\"]\n",
    "    .groupby(\"country\")\n",
    "    .size()\n",
    "    .sort_values(ascending=False)\n",
    "    .head(15)\n",
    "    .plot(kind=\"bar\", ax=ax)\n",
    ")\n",
    "ax.set_ylabel(\"Count\")\n",
    "ax.set_xlabel(\"Country\")\n",
    "ax.set_title(\"Top 15 countries by number of circuits\")\n",
    "plt.show()"
   ]
  },
  {
   "cell_type": "markdown",
   "metadata": {},
   "source": [
    "Podemos perceber uma notória dominância europeia e norte-americana. No entanto, note que estamos analisando a quantidade de circuitos, e não de corridas. Essa outra estatística é apresentada na próxima célula."
   ]
  },
  {
   "cell_type": "code",
   "execution_count": null,
   "metadata": {},
   "outputs": [],
   "source": [
    "fig, ax = plt.subplots(figsize=(16, 9))\n",
    "(\n",
    "    raw_dfs[\"races\"]\n",
    "    .join(raw_dfs[\"circuits\"], on=\"circuitId\", lsuffix=\"_race\", rsuffix=\"_circuit\")\n",
    "    .groupby(\"country\")\n",
    "    .size()\n",
    "    .sort_values(ascending=False)\n",
    "    .head(15)\n",
    "    .plot(kind=\"bar\", ax=ax)\n",
    ")\n",
    "ax.set_ylabel(\"Count\")\n",
    "ax.set_xlabel(\"Country\")\n",
    "ax.set_title(\"Top 15 countries by number of races\")\n",
    "plt.show()"
   ]
  },
  {
   "cell_type": "code",
   "execution_count": null,
   "metadata": {},
   "outputs": [],
   "source": [
    "fig, ax = plt.subplots(figsize=(16, 9))\n",
    "(\n",
    "    raw_dfs[\"races\"]\n",
    "    .join(raw_dfs[\"circuits\"], on=\"circuitId\", lsuffix=\"_race\", rsuffix=\"_circuit\")\n",
    "    .groupby(\"name_circuit\")\n",
    "    .size()\n",
    "    .sort_values(ascending=False)\n",
    "    .head(15)\n",
    "    .plot(kind=\"bar\", ax=ax)\n",
    ")\n",
    "ax.set_ylabel(\"Count\")\n",
    "ax.set_xlabel(\"Circuit\")\n",
    "ax.set_title(\"Top 15 circuits by number of races\")\n",
    "plt.show()"
   ]
  },
  {
   "cell_type": "code",
   "execution_count": null,
   "metadata": {},
   "outputs": [],
   "source": [
    "race_id_circuit_country = raw_dfs[\"races\"].join(raw_dfs[\"circuits\"], on=\"circuitId\", lsuffix=\"_race\", rsuffix=\"_circuit\")[[\"country\", \"name_circuit\"]]\n",
    "top_10_countries = (\n",
    "    race_id_circuit_country\n",
    "    .groupby(\"country\")\n",
    "    .size()\n",
    "    .sort_values(ascending=False)\n",
    "    .head(10)\n",
    "    .index\n",
    ")\n",
    "\n",
    "fig, ax = plt.subplots(figsize=(16,9))\n",
    "color_palette = sns.color_palette(\"husl\", n_colors=len(top_10_countries))\n",
    "\n",
    "def update(frame):\n",
    "    country = top_10_countries[frame]\n",
    "    this_data = race_id_circuit_country.query(\"country == @country\").groupby(\"name_circuit\").size().sort_values(ascending=False)\n",
    "    ax.cla()\n",
    "    sns.barplot(\n",
    "        this_data,\n",
    "        order=this_data.index,\n",
    "        ax=ax,\n",
    "        color=color_palette[frame]\n",
    "    )\n",
    "    # Change color for each frame\n",
    "    ax.set_title(f\"Top circuits: {country}\")\n",
    "    ax.set_ylabel(\"Count\")\n",
    "    ax.set_xlabel(\"Circuit\")\n",
    "    plt.xticks(rotation=45)\n",
    "    fig.tight_layout()\n",
    "anim = animation.FuncAnimation(fig=fig, func=update, frames=len(top_10_countries), interval=5000)\n",
    "anim.save(\".animations/countries_circuits.mp4\")"
   ]
  },
  {
   "cell_type": "markdown",
   "metadata": {},
   "source": [
    "### Nota sobre país sede e localização de circuitos\n",
    "\n",
    "Estamos tratando circuitos puramente com base em sua localização geográfica. Alguns circuitos, embora localizados em determinado país, podem ter composto um Grande Prêmio com nome diferente. Um exemplo clássico é o Grande Prêmio de San Marino, cujo circuito (Autodromo Enzo e Dino Ferrari) está localizado na Itália, e não em San Marino. A Fórmula 1 usa esse tipo de nomenclatura para evitar conflitos com Grande Prêmios já existentes. Alguns outros casos são:\n",
    "- GP da Europa (ocorridos em diferentes países, como Reino Unido, Alemanha, Espanha e até Azerbaijão)\n",
    "- GP de Luxemburgo (realizado na Alemanha)\n",
    "- GP da Suíça (realizado na França em 1982; a Suíça baniu o automobilismo em 1955 após um acidente nas 24h de Le Mans e só desbaniu o mesmo em 2022)\n"
   ]
  },
  {
   "cell_type": "markdown",
   "metadata": {},
   "source": [
    "### Pontos importantes\n",
    "\n",
    "- Apesar do domínio britânico do esporte, a Itália apresenta uma longa tradição de corridas, com o Autódromo de Monza tendo sediado corrida em todos anos com exceção de 1980. O Grande Prêmio de San Marino fez com que a Itália seja - com certa margem - o país que mais sediou corridas na história da Fórmula 1.\n",
    "- Apesar de não ter sediado tantas corridas quanto potências europeias tal qual Itália, Alemanha e Reino Unido, os Estados Unidos apresentam uma grande quantidade de circuitos quando comparado com esses países, tendo 11 circuitos no total. Essa estatística desconsidera a temporada de 2024, onde o novo circuito de Las Vegas foi introduzido.\n",
    "- A hegemonia europeia sobre o esporte fica ainda mais evidente quando analisando o número de corridas por país. Apenas 5 dos 15 países que mais sediaram corridas não são europeus: EUA, Canadá, Brasil, Japão e Austrália."
   ]
  },
  {
   "cell_type": "markdown",
   "metadata": {},
   "source": [
    "## Pilotos"
   ]
  },
  {
   "cell_type": "markdown",
   "metadata": {},
   "source": [
    "Distribuição por nacionalidade"
   ]
  },
  {
   "cell_type": "code",
   "execution_count": null,
   "metadata": {},
   "outputs": [],
   "source": [
    "raw_dfs[\"drivers\"][\"nationality\"].value_counts().head(15).plot(kind=\"bar\")"
   ]
  },
  {
   "cell_type": "markdown",
   "metadata": {},
   "source": [
    "Distribuição por data de nascimento"
   ]
  },
  {
   "cell_type": "code",
   "execution_count": null,
   "metadata": {},
   "outputs": [],
   "source": [
    "# get year and calculate decade\n",
    "raw_dfs[\"drivers\"][\"dob\"].dt.year.apply(lambda x: x // 10 * 10).value_counts().sort_index().plot(kind=\"bar\")"
   ]
  },
  {
   "cell_type": "markdown",
   "metadata": {},
   "source": [
    "Distribuição de vencedores de corridas"
   ]
  },
  {
   "cell_type": "code",
   "execution_count": null,
   "metadata": {},
   "outputs": [],
   "source": [
    "raw_dfs[\"results\"].query(\"position == 1\").join(raw_dfs[\"drivers\"], on=\"driverId\")[[\"forename\", \"surname\"]].apply(lambda x: f\"{x['forename']} {x['surname']}\", axis=1).value_counts().head(15).plot(kind=\"bar\")"
   ]
  },
  {
   "cell_type": "markdown",
   "metadata": {},
   "source": [
    "Distribuição de vencedores de corrida por nacionalidade"
   ]
  },
  {
   "cell_type": "code",
   "execution_count": null,
   "metadata": {},
   "outputs": [],
   "source": [
    "winning_drivers_df = raw_dfs[\"results\"].query(\"position == 1\").join(raw_dfs[\"drivers\"], on=\"driverId\")\n",
    "winning_drivers_df[\"nationality\"].value_counts().head(15).plot(kind=\"bar\")"
   ]
  },
  {
   "cell_type": "markdown",
   "metadata": {},
   "source": [
    "Uma estatística interessante a se notar é como apesar do esporte ser completamente dominado por europeus, o Brasil aparece como terceiro lugar na lista de nacionalidades por número de vitórias. É interessante verificar quais pilotos do Brasil mais contribuíram para essa estatística."
   ]
  },
  {
   "cell_type": "code",
   "execution_count": null,
   "metadata": {},
   "outputs": [],
   "source": [
    "winning_drivers_df.query(\"nationality == 'Brazilian'\")[[\"forename\", \"surname\"]].apply(lambda x: f\"{x['forename']} {x['surname']}\", axis=1).value_counts().head(15).plot(kind=\"bar\")"
   ]
  },
  {
   "cell_type": "markdown",
   "metadata": {},
   "source": [
    "Distribuição de vencedores por data de nascimento"
   ]
  },
  {
   "cell_type": "code",
   "execution_count": null,
   "metadata": {},
   "outputs": [],
   "source": [
    "winning_drivers_df[\"dob\"].dt.year.apply(lambda x: x // 10 * 10).value_counts().sort_index().plot(kind=\"bar\")"
   ]
  }
 ],
 "metadata": {
  "kernelspec": {
   "display_name": ".venv",
   "language": "python",
   "name": "python3"
  },
  "language_info": {
   "codemirror_mode": {
    "name": "ipython",
    "version": 3
   },
   "file_extension": ".py",
   "mimetype": "text/x-python",
   "name": "python",
   "nbconvert_exporter": "python",
   "pygments_lexer": "ipython3",
   "version": "3.11.6"
  }
 },
 "nbformat": 4,
 "nbformat_minor": 2
}
